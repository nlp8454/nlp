{
 "cells": [
  {
   "cell_type": "code",
   "execution_count": 1,
   "id": "4a687975",
   "metadata": {},
   "outputs": [],
   "source": [
    "import requests\n",
    "import lxml \n",
    "from bs4 import BeautifulSoup"
   ]
  },
  {
   "cell_type": "code",
   "execution_count": 2,
   "id": "77a222b2",
   "metadata": {},
   "outputs": [],
   "source": [
    "url = \"https://www.rottentomatoes.com/top/bestofrt/\"\n",
    "f = requests.get(url)"
   ]
  },
  {
   "cell_type": "code",
   "execution_count": 3,
   "id": "10d78521",
   "metadata": {},
   "outputs": [],
   "source": [
    "soup = BeautifulSoup(f.content,'lxml')"
   ]
  },
  {
   "cell_type": "code",
   "execution_count": 4,
   "id": "cb53dcac",
   "metadata": {},
   "outputs": [],
   "source": [
    "movies = soup.find_all('div',{'class':'discovery-tiles__wrap'})[1].find_all('a')"
   ]
  },
  {
   "cell_type": "code",
   "execution_count": 5,
   "id": "207049ee",
   "metadata": {},
   "outputs": [
    {
     "data": {
      "text/plain": [
       "30"
      ]
     },
     "execution_count": 5,
     "metadata": {},
     "output_type": "execute_result"
    }
   ],
   "source": [
    "movies_list = []\n",
    "num = 0\n",
    "for movie in movies:\n",
    "  try:\n",
    "    url = 'https://www.rottentomatoes.com' + movie[\"href\"]\n",
    "    movie_f = requests.get(url)   \n",
    "    movie_page = BeautifulSoup(movie_f.content,'html')\n",
    "    num += 1\n",
    "    title = movie_page.find('h1', {'class': 'scoreboard__title'})\n",
    "    movie_content = movie_page.find('div', {'class': 'movie_synopsis'})\n",
    "    movies_list.append({\n",
    "        \"#\": num,\n",
    "        \"url\": url,\n",
    "        \"title\": title.text,\n",
    "        \"content\": movie_content.getText()\n",
    "    })\n",
    "  except:\n",
    "    continue\n",
    "\n",
    "len(movies_list)\n"
   ]
  },
  {
   "cell_type": "code",
   "execution_count": 6,
   "id": "c32c480f",
   "metadata": {},
   "outputs": [
    {
     "name": "stdout",
     "output_type": "stream",
     "text": [
      "1 \n",
      "url: https://www.rottentomatoes.com/m/emergency_2022 \n",
      "title: Emergency \n",
      "content: \n",
      "                Kunle (Donald Elise Watkins) and his best friend, Sean (RJ Cyler), are both seniors in college about to embark on an epic night of Spring Break parties. Sean has the whole night planned out, including every party they will hit on their \"legendary tour.\" Kunle is down, yet mostly concerned with finishing up his mold experiment in his lab, as his acceptance to Princeton is hinging on the results. They return to their apartment to pre-game, yet find that their roommate, Carlos (Sebastian Chacon), left the door open. As they enter with trepidation, Sean and Kunle discover a drunk, semi-conscious White female they don't know on the floor and an oblivious Carlos, who didn't hear her come in over the videogame blaring in his ears. Kunle wants to call the cops but Sean vehemently opposes the idea concerned how it will look when the cops show up (two Black men, one Latino man and a passed out White woman). Together, Carlos, Sean and Kunle load the girl -- who they nickname Goldilocks, but whose real name is Emma (Maddie Nichols) -- into Sean's van, with the intention of taking her somewhere safe rather than calling the police. Meanwhile, Emma's sister, Maddy (Sabrina Carpenter), has realized that Emma left the party they were at, and begins to search for her in a drunk panic using Emma's phone's location. What ensues is a chaotic, hilarious, and tension-filled chase all over town as our trio grapples with their differences while attempting to bring Emma to safety.\n",
      "            \n",
      "2 \n",
      "url: https://www.rottentomatoes.com/m/chip_n_dale_rescue_rangers \n",
      "title: Chip 'n' Dale: Rescue Rangers \n",
      "content: \n",
      "                In \"Chip 'n Dale: Rescue Rangers,\" Chip and Dale are living amongst cartoons and humans in modern-day Los Angeles, but their lives are quite different now. It has been decades since their successful television series was canceled, and Chip (voice of John Mulaney) has succumbed to a life of suburban domesticity as an insurance salesman. Dale (voice of Andy Sandberg), meanwhile, has had CGI surgery and works the nostalgia convention circuit, desperate to relive his glory days. When a former cast mate mysteriously disappears, Chip and Dale must repair their broken friendship and take on their Rescue Rangers detective personas once again to save their friend's life.\n",
      "            \n",
      "3 \n",
      "url: https://www.rottentomatoes.com/m/the_lost_city \n",
      "title: The Lost City \n",
      "content: \n",
      "                Reclusive author Loretta Sage writes about exotic places in her popular adventure novels that feature a handsome cover model named Alan. While on tour promoting her new book with Alan, Loretta gets kidnapped by an eccentric billionaire who hopes she can lead him to an ancient city's lost treasure from her latest story. Determined to prove he can be a hero in real life and not just on the pages of her books, Alan sets off to rescue her.\n",
      "            \n",
      "4 \n",
      "url: https://www.rottentomatoes.com/m/operation_mincemeat \n",
      "title: Operation Mincemeat \n",
      "content: \n",
      "                It's 1943. The Allies are determined to break Hitler's grip on occupied Europe, and plan an all-out assault on Sicily; but they face an impossible challenge -- how to protect a massive invasion force from potential massacre. It falls to two remarkable intelligence officers, Ewen Montagu (Colin Firth) and Charles Cholmondeley (Matthew Macfadyen) to dream the most inspired and improbable disinformation strategy of the war -- centered on the most unlikely of secret agents: a dead man. Operation Mincemeat is the extraordinary and true story of an idea that hoped to alter the course of the war -- defying logic, risking countless thousands of lives, and testing the nerves of its creators to breaking point.\n",
      "            \n",
      "5 \n",
      "url: https://www.rottentomatoes.com/m/x_2022 \n",
      "title: X \n",
      "content: \n",
      "                A group of actors sets out to make an adult film in rural Texas under the noses of their reclusive hosts, but when the elderly couple catches their young guests in the act, the cast finds themselves in a desperate fight for their lives.\n",
      "            \n",
      "6 \n",
      "url: https://www.rottentomatoes.com/m/the_batman \n",
      "title: The Batman \n",
      "content: \n",
      "                Batman ventures into Gotham City's underworld when a sadistic killer leaves behind a trail of cryptic clues. As the evidence begins to lead closer to home and the scale of the perpetrator's plans become clear, he must forge new relationships, unmask the culprit and bring justice to the abuse of power and corruption that has long plagued the metropolis.\n",
      "            \n",
      "7 \n",
      "url: https://www.rottentomatoes.com/m/the_innocents_2022 \n",
      "title: The Innocents \n",
      "content: \n",
      "                Terror strikes when a group of Nordic children reveals mysterious powers that take a dark and violent turn.\n",
      "            \n",
      "8 \n",
      "url: https://www.rottentomatoes.com/m/you_wont_be_alone \n",
      "title: You Won't Be Alone \n",
      "content: \n",
      "                Set in an isolated mountain village in 19th century Macedonia, YOU WON'T BE ALONE follows a young girl who is kidnapped and then transformed into a witch by an ancient spirit. Curious about life as a human, the young witch accidentally kills a peasant in the nearby village and then takes her victim's shape to live life in her skin. Her curiosity ignited, she continues to wield this horrific power in order to understand what it means to be human.\n",
      "            \n",
      "9 \n",
      "url: https://www.rottentomatoes.com/m/hatching \n",
      "title: Hatching \n",
      "content: \n",
      "                In HATCHING, 12-year-old gymnast, Tinja (Siiri Solalinna), is desperate to please her image-obsessed mother, whose popular blog 'Lovely Everyday Life' presents their family's idyllic existence as manicured suburban perfection. One day, after finding a wounded bird in the woods, Tinja brings its strange egg home, nestles it in her bed, and nurtures it until it hatches. The creature that emerges becomes her closest friend and a living nightmare, plunging Tinja beneath the impeccable veneer into a twisted reality that her mother refuses to see.\n",
      "            \n",
      "10 \n",
      "url: https://www.rottentomatoes.com/m/on_the_count_of_three \n",
      "title: On the Count of Three \n",
      "content: \n",
      "                From Annapurna Pictures (Spring Breakers, Sorry to Bother You, Booksmart) and Orion Pictures, Jerrod Carmichael makes his directorial debut and stars in On the Count of Three, a darkly comic feature about two best friends, Val (Carmichael) and Kevin (Christopher Abbott), on the last day of their lives.\n",
      "            \n"
     ]
    }
   ],
   "source": [
    "for movie in movies_list[:10]:\n",
    "  print(f\"{movie['#']} \\nurl: {movie['url']} \\ntitle: {movie['title']} \\ncontent: {movie['content']}\")"
   ]
  },
  {
   "cell_type": "code",
   "execution_count": null,
   "id": "c19862de",
   "metadata": {},
   "outputs": [],
   "source": []
  }
 ],
 "metadata": {
  "kernelspec": {
   "display_name": "Python 3 (ipykernel)",
   "language": "python",
   "name": "python3"
  },
  "language_info": {
   "codemirror_mode": {
    "name": "ipython",
    "version": 3
   },
   "file_extension": ".py",
   "mimetype": "text/x-python",
   "name": "python",
   "nbconvert_exporter": "python",
   "pygments_lexer": "ipython3",
   "version": "3.10.4"
  }
 },
 "nbformat": 4,
 "nbformat_minor": 5
}
