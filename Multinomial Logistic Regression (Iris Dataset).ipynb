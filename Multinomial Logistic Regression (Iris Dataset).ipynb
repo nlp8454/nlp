{
 "cells": [
  {
   "cell_type": "code",
   "execution_count": 1,
   "id": "55a3fc02",
   "metadata": {},
   "outputs": [],
   "source": [
    "#Loading the libraries and the data\n",
    "\n",
    "import numpy as np\n",
    "import pandas as pd\n",
    "import matplotlib.pyplot as plt\n",
    "import statsmodels.api as sm\n",
    "\n",
    "from sklearn.linear_model import LogisticRegression\n",
    "from sklearn.model_selection import train_test_split\n",
    "from sklearn.metrics import confusion_matrix\n",
    "from sklearn import preprocessing\n",
    "from sklearn.metrics import accuracy_score\n",
    "from sklearn.model_selection import cross_val_score"
   ]
  },
  {
   "cell_type": "code",
   "execution_count": 2,
   "id": "86f1d546",
   "metadata": {},
   "outputs": [
    {
     "data": {
      "text/html": [
       "<div>\n",
       "<style scoped>\n",
       "    .dataframe tbody tr th:only-of-type {\n",
       "        vertical-align: middle;\n",
       "    }\n",
       "\n",
       "    .dataframe tbody tr th {\n",
       "        vertical-align: top;\n",
       "    }\n",
       "\n",
       "    .dataframe thead th {\n",
       "        text-align: right;\n",
       "    }\n",
       "</style>\n",
       "<table border=\"1\" class=\"dataframe\">\n",
       "  <thead>\n",
       "    <tr style=\"text-align: right;\">\n",
       "      <th></th>\n",
       "      <th>sepal_length</th>\n",
       "      <th>sepal_width</th>\n",
       "      <th>petal_length</th>\n",
       "      <th>petal_width</th>\n",
       "      <th>species</th>\n",
       "    </tr>\n",
       "  </thead>\n",
       "  <tbody>\n",
       "    <tr>\n",
       "      <th>0</th>\n",
       "      <td>5.100000</td>\n",
       "      <td>3.500000</td>\n",
       "      <td>1.400000</td>\n",
       "      <td>0.200000</td>\n",
       "      <td>Iris-setosa</td>\n",
       "    </tr>\n",
       "    <tr>\n",
       "      <th>1</th>\n",
       "      <td>4.900000</td>\n",
       "      <td>3.000000</td>\n",
       "      <td>1.400000</td>\n",
       "      <td>0.200000</td>\n",
       "      <td>Iris-setosa</td>\n",
       "    </tr>\n",
       "    <tr>\n",
       "      <th>2</th>\n",
       "      <td>4.700000</td>\n",
       "      <td>3.200000</td>\n",
       "      <td>1.300000</td>\n",
       "      <td>0.200000</td>\n",
       "      <td>Iris-setosa</td>\n",
       "    </tr>\n",
       "    <tr>\n",
       "      <th>3</th>\n",
       "      <td>4.600000</td>\n",
       "      <td>3.100000</td>\n",
       "      <td>1.500000</td>\n",
       "      <td>0.200000</td>\n",
       "      <td>Iris-setosa</td>\n",
       "    </tr>\n",
       "    <tr>\n",
       "      <th>4</th>\n",
       "      <td>5.000000</td>\n",
       "      <td>3.600000</td>\n",
       "      <td>1.400000</td>\n",
       "      <td>0.200000</td>\n",
       "      <td>Iris-setosa</td>\n",
       "    </tr>\n",
       "  </tbody>\n",
       "</table>\n",
       "</div>"
      ],
      "text/plain": [
       "   sepal_length  sepal_width  petal_length  petal_width      species\n",
       "0      5.100000     3.500000      1.400000     0.200000  Iris-setosa\n",
       "1      4.900000     3.000000      1.400000     0.200000  Iris-setosa\n",
       "2      4.700000     3.200000      1.300000     0.200000  Iris-setosa\n",
       "3      4.600000     3.100000      1.500000     0.200000  Iris-setosa\n",
       "4      5.000000     3.600000      1.400000     0.200000  Iris-setosa"
      ]
     },
     "execution_count": 2,
     "metadata": {},
     "output_type": "execute_result"
    }
   ],
   "source": [
    "#for readable figures\n",
    "pd.set_option('float_format', '{:f}'.format)\n",
    "iris = pd.read_csv(\"./Iris_Data.csv\")\n",
    "iris.head()"
   ]
  },
  {
   "cell_type": "code",
   "execution_count": 3,
   "id": "782d61ad",
   "metadata": {},
   "outputs": [],
   "source": [
    "x = iris.drop('species', axis=1)\n",
    "y = iris['species']\n",
    "trainX, testX, trainY, testY = train_test_split(x, y, test_size = 0.2)\n"
   ]
  },
  {
   "cell_type": "code",
   "execution_count": 4,
   "id": "a0c9410a",
   "metadata": {},
   "outputs": [],
   "source": [
    "#Fit the model\n",
    "\n",
    "log_reg = LogisticRegression(solver='newton-cg', multi_class='multinomial')\n",
    "log_reg.fit(trainX, trainY)\n",
    "y_pred = log_reg.predict(testX)"
   ]
  },
  {
   "cell_type": "code",
   "execution_count": 5,
   "id": "1e07676b",
   "metadata": {},
   "outputs": [
    {
     "name": "stdout",
     "output_type": "stream",
     "text": [
      "Accuracy: 1.00\n",
      "Error rate: 0.00\n"
     ]
    }
   ],
   "source": [
    "# Model validation\n",
    "# print the accuracy and error rate:\n",
    "\n",
    "print('Accuracy: {:.2f}'.format(accuracy_score(testY, y_pred)))\n",
    "print('Error rate: {:.2f}'.format(1 - accuracy_score(testY, y_pred)))"
   ]
  },
  {
   "cell_type": "code",
   "execution_count": 6,
   "id": "74e63bea",
   "metadata": {},
   "outputs": [
    {
     "data": {
      "text/plain": [
       "array([0.95833333, 1.        , 0.95833333, 0.95833333, 0.95833333])"
      ]
     },
     "execution_count": 6,
     "metadata": {},
     "output_type": "execute_result"
    }
   ],
   "source": [
    "# look at the scores from cross validation:\n",
    "\n",
    "clf = LogisticRegression(solver='newton-cg', multi_class='multinomial')\n",
    "scores = cross_val_score(clf, trainX, trainY, cv=5)\n",
    "scores\n"
   ]
  },
  {
   "cell_type": "code",
   "execution_count": 7,
   "id": "23d4329d",
   "metadata": {},
   "outputs": [
    {
     "name": "stdout",
     "output_type": "stream",
     "text": [
      "Accuracy: 0.97 (+/- 0.03)\n"
     ]
    }
   ],
   "source": [
    "print(\"Accuracy: %0.2f (+/- %0.2f)\" % (scores.mean(), scores.std() * 2))\n"
   ]
  },
  {
   "cell_type": "code",
   "execution_count": 8,
   "id": "8186da22",
   "metadata": {},
   "outputs": [
    {
     "name": "stdout",
     "output_type": "stream",
     "text": [
      "[[15  0  0]\n",
      " [ 0  9  0]\n",
      " [ 0  0  6]]\n"
     ]
    }
   ],
   "source": [
    "#look at the confusion matrix:\n",
    "confusion_matrix = confusion_matrix(testY, y_pred)\n",
    "print(confusion_matrix)\n"
   ]
  },
  {
   "cell_type": "code",
   "execution_count": 9,
   "id": "12e15943",
   "metadata": {},
   "outputs": [
    {
     "data": {
      "image/png": "[encoded data removed]",
      "text/plain": [
       "<Figure size 288x288 with 1 Axes>"
      ]
     },
     "metadata": {
      "needs_background": "light"
     },
     "output_type": "display_data"
    }
   ],
   "source": [
    "#If you have many variables, it makes sense to plot the confusion matrix:\n",
    "plt.matshow(confusion_matrix, cmap=plt.cm.gray)\n",
    "plt.show()\n"
   ]
  },
  {
   "cell_type": "code",
   "execution_count": 10,
   "id": "85e8fc5e",
   "metadata": {},
   "outputs": [
    {
     "data": {
      "text/plain": [
       "array([[9.70108009e-01, 2.98918873e-02, 1.03811532e-07],\n",
       "       [9.83473267e-01, 1.65266845e-02, 4.86512926e-08],\n",
       "       [9.07538251e-03, 8.40019921e-01, 1.50904697e-01],\n",
       "       [9.82785069e-01, 1.72149232e-02, 8.02231717e-09],\n",
       "       [6.77859403e-06, 2.11598741e-02, 9.78833347e-01],\n",
       "       [9.86429807e-01, 1.35701650e-02, 2.79365471e-08],\n",
       "       [1.05208916e-02, 9.24567533e-01, 6.49115757e-02],\n",
       "       [6.92683035e-03, 7.97915752e-01, 1.95157418e-01],\n",
       "       [9.94478367e-01, 5.52162940e-03, 3.70705190e-09],\n",
       "       [1.27006062e-06, 2.17815701e-02, 9.78217160e-01],\n",
       "       [3.01179255e-02, 9.48828907e-01, 2.10531677e-02],\n",
       "       [9.84351511e-01, 1.56484742e-02, 1.48023159e-08],\n",
       "       [9.63363553e-01, 3.66363719e-02, 7.51209596e-08],\n",
       "       [7.23328355e-05, 4.58375558e-02, 9.54090111e-01],\n",
       "       [5.89693107e-03, 8.11799581e-01, 1.82303488e-01],\n",
       "       [9.80585905e-01, 1.94140601e-02, 3.44447743e-08],\n",
       "       [1.71409819e-01, 8.24432279e-01, 4.15790200e-03],\n",
       "       [2.51438227e-02, 9.24628036e-01, 5.02281415e-02],\n",
       "       [9.76013164e-01, 2.39867563e-02, 7.99023527e-08],\n",
       "       [6.21256286e-03, 9.11186788e-01, 8.26006496e-02],\n",
       "       [9.63363553e-01, 3.66363719e-02, 7.51209596e-08],\n",
       "       [2.13215136e-05, 4.53955244e-02, 9.54583154e-01],\n",
       "       [9.78970478e-01, 2.10294706e-02, 5.17045282e-08],\n",
       "       [9.65135332e-01, 3.48643651e-02, 3.03346801e-07],\n",
       "       [9.63363553e-01, 3.66363719e-02, 7.51209596e-08],\n",
       "       [2.35216339e-02, 9.23528646e-01, 5.29497198e-02],\n",
       "       [9.70612439e-01, 2.93874937e-02, 6.70604987e-08],\n",
       "       [9.73312271e-01, 2.66876820e-02, 4.72796951e-08],\n",
       "       [1.12558392e-04, 5.14829993e-02, 9.48404442e-01],\n",
       "       [1.44757955e-03, 4.59363670e-01, 5.39188751e-01]])"
      ]
     },
     "execution_count": 10,
     "metadata": {},
     "output_type": "execute_result"
    }
   ],
   "source": [
    "#Calculated probabilities\n",
    "#get the probabilities of the predicted classes\n",
    "probability = log_reg.predict_proba(testX)\n",
    "probability"
   ]
  },
  {
   "cell_type": "code",
   "execution_count": 11,
   "id": "3cce97aa",
   "metadata": {},
   "outputs": [
    {
     "name": "stdout",
     "output_type": "stream",
     "text": [
      "30\n",
      "30\n"
     ]
    }
   ],
   "source": [
    "#Each column here represents a class. The class with the highest probability is the output of the predicted class. Here we can see that the length of the probability data is the same as the length of the test data.\n",
    "\n",
    "print(probability.shape[0])\n",
    "print(testX.shape[0])"
   ]
  },
  {
   "cell_type": "code",
   "execution_count": 12,
   "id": "94b95782",
   "metadata": {},
   "outputs": [
    {
     "data": {
      "text/html": [
       "<div>\n",
       "<style scoped>\n",
       "    .dataframe tbody tr th:only-of-type {\n",
       "        vertical-align: middle;\n",
       "    }\n",
       "\n",
       "    .dataframe tbody tr th {\n",
       "        vertical-align: top;\n",
       "    }\n",
       "\n",
       "    .dataframe thead th {\n",
       "        text-align: right;\n",
       "    }\n",
       "</style>\n",
       "<table border=\"1\" class=\"dataframe\">\n",
       "  <thead>\n",
       "    <tr style=\"text-align: right;\">\n",
       "      <th></th>\n",
       "      <th>Iris-setosa</th>\n",
       "      <th>Iris-versicolor</th>\n",
       "      <th>Iris-virginica</th>\n",
       "    </tr>\n",
       "  </thead>\n",
       "  <tbody>\n",
       "    <tr>\n",
       "      <th>0</th>\n",
       "      <td>0.970108</td>\n",
       "      <td>0.029892</td>\n",
       "      <td>0.000000</td>\n",
       "    </tr>\n",
       "    <tr>\n",
       "      <th>1</th>\n",
       "      <td>0.983473</td>\n",
       "      <td>0.016527</td>\n",
       "      <td>0.000000</td>\n",
       "    </tr>\n",
       "    <tr>\n",
       "      <th>2</th>\n",
       "      <td>0.009075</td>\n",
       "      <td>0.840020</td>\n",
       "      <td>0.150905</td>\n",
       "    </tr>\n",
       "    <tr>\n",
       "      <th>3</th>\n",
       "      <td>0.982785</td>\n",
       "      <td>0.017215</td>\n",
       "      <td>0.000000</td>\n",
       "    </tr>\n",
       "    <tr>\n",
       "      <th>4</th>\n",
       "      <td>0.000007</td>\n",
       "      <td>0.021160</td>\n",
       "      <td>0.978833</td>\n",
       "    </tr>\n",
       "  </tbody>\n",
       "</table>\n",
       "</div>"
      ],
      "text/plain": [
       "   Iris-setosa  Iris-versicolor  Iris-virginica\n",
       "0     0.970108         0.029892        0.000000\n",
       "1     0.983473         0.016527        0.000000\n",
       "2     0.009075         0.840020        0.150905\n",
       "3     0.982785         0.017215        0.000000\n",
       "4     0.000007         0.021160        0.978833"
      ]
     },
     "execution_count": 12,
     "metadata": {},
     "output_type": "execute_result"
    }
   ],
   "source": [
    "#output into shape and a readable format\n",
    "\n",
    "df = pd.DataFrame(log_reg.predict_proba(testX), columns=log_reg.classes_)\n",
    "df.head()\n",
    "\n",
    "#with the .classes_ function we get the order of the classes that Python gave.\n"
   ]
  },
  {
   "cell_type": "code",
   "execution_count": 13,
   "id": "1f375b67",
   "metadata": {},
   "outputs": [
    {
     "data": {
      "text/html": [
       "<div>\n",
       "<style scoped>\n",
       "    .dataframe tbody tr th:only-of-type {\n",
       "        vertical-align: middle;\n",
       "    }\n",
       "\n",
       "    .dataframe tbody tr th {\n",
       "        vertical-align: top;\n",
       "    }\n",
       "\n",
       "    .dataframe thead th {\n",
       "        text-align: right;\n",
       "    }\n",
       "</style>\n",
       "<table border=\"1\" class=\"dataframe\">\n",
       "  <thead>\n",
       "    <tr style=\"text-align: right;\">\n",
       "      <th></th>\n",
       "      <th>Iris-setosa</th>\n",
       "      <th>Iris-versicolor</th>\n",
       "      <th>Iris-virginica</th>\n",
       "      <th>sum</th>\n",
       "    </tr>\n",
       "  </thead>\n",
       "  <tbody>\n",
       "    <tr>\n",
       "      <th>0</th>\n",
       "      <td>0.970108</td>\n",
       "      <td>0.029892</td>\n",
       "      <td>0.000000</td>\n",
       "      <td>1.000000</td>\n",
       "    </tr>\n",
       "    <tr>\n",
       "      <th>1</th>\n",
       "      <td>0.983473</td>\n",
       "      <td>0.016527</td>\n",
       "      <td>0.000000</td>\n",
       "      <td>1.000000</td>\n",
       "    </tr>\n",
       "    <tr>\n",
       "      <th>2</th>\n",
       "      <td>0.009075</td>\n",
       "      <td>0.840020</td>\n",
       "      <td>0.150905</td>\n",
       "      <td>1.000000</td>\n",
       "    </tr>\n",
       "    <tr>\n",
       "      <th>3</th>\n",
       "      <td>0.982785</td>\n",
       "      <td>0.017215</td>\n",
       "      <td>0.000000</td>\n",
       "      <td>1.000000</td>\n",
       "    </tr>\n",
       "    <tr>\n",
       "      <th>4</th>\n",
       "      <td>0.000007</td>\n",
       "      <td>0.021160</td>\n",
       "      <td>0.978833</td>\n",
       "      <td>1.000000</td>\n",
       "    </tr>\n",
       "  </tbody>\n",
       "</table>\n",
       "</div>"
      ],
      "text/plain": [
       "   Iris-setosa  Iris-versicolor  Iris-virginica      sum\n",
       "0     0.970108         0.029892        0.000000 1.000000\n",
       "1     0.983473         0.016527        0.000000 1.000000\n",
       "2     0.009075         0.840020        0.150905 1.000000\n",
       "3     0.982785         0.017215        0.000000 1.000000\n",
       "4     0.000007         0.021160        0.978833 1.000000"
      ]
     },
     "execution_count": 13,
     "metadata": {},
     "output_type": "execute_result"
    }
   ],
   "source": [
    "#sum of the probabilities must always be 1\n",
    "\n",
    "df['sum'] = df.sum(axis=1)\n",
    "df.head()\n"
   ]
  },
  {
   "cell_type": "code",
   "execution_count": 14,
   "id": "0d06dd82",
   "metadata": {},
   "outputs": [
    {
     "data": {
      "text/html": [
       "<div>\n",
       "<style scoped>\n",
       "    .dataframe tbody tr th:only-of-type {\n",
       "        vertical-align: middle;\n",
       "    }\n",
       "\n",
       "    .dataframe tbody tr th {\n",
       "        vertical-align: top;\n",
       "    }\n",
       "\n",
       "    .dataframe thead th {\n",
       "        text-align: right;\n",
       "    }\n",
       "</style>\n",
       "<table border=\"1\" class=\"dataframe\">\n",
       "  <thead>\n",
       "    <tr style=\"text-align: right;\">\n",
       "      <th></th>\n",
       "      <th>Iris-setosa</th>\n",
       "      <th>Iris-versicolor</th>\n",
       "      <th>Iris-virginica</th>\n",
       "      <th>sum</th>\n",
       "      <th>predicted_class</th>\n",
       "    </tr>\n",
       "  </thead>\n",
       "  <tbody>\n",
       "    <tr>\n",
       "      <th>0</th>\n",
       "      <td>0.970108</td>\n",
       "      <td>0.029892</td>\n",
       "      <td>0.000000</td>\n",
       "      <td>1.000000</td>\n",
       "      <td>Iris-setosa</td>\n",
       "    </tr>\n",
       "    <tr>\n",
       "      <th>1</th>\n",
       "      <td>0.983473</td>\n",
       "      <td>0.016527</td>\n",
       "      <td>0.000000</td>\n",
       "      <td>1.000000</td>\n",
       "      <td>Iris-setosa</td>\n",
       "    </tr>\n",
       "    <tr>\n",
       "      <th>2</th>\n",
       "      <td>0.009075</td>\n",
       "      <td>0.840020</td>\n",
       "      <td>0.150905</td>\n",
       "      <td>1.000000</td>\n",
       "      <td>Iris-versicolor</td>\n",
       "    </tr>\n",
       "    <tr>\n",
       "      <th>3</th>\n",
       "      <td>0.982785</td>\n",
       "      <td>0.017215</td>\n",
       "      <td>0.000000</td>\n",
       "      <td>1.000000</td>\n",
       "      <td>Iris-setosa</td>\n",
       "    </tr>\n",
       "    <tr>\n",
       "      <th>4</th>\n",
       "      <td>0.000007</td>\n",
       "      <td>0.021160</td>\n",
       "      <td>0.978833</td>\n",
       "      <td>1.000000</td>\n",
       "      <td>Iris-virginica</td>\n",
       "    </tr>\n",
       "  </tbody>\n",
       "</table>\n",
       "</div>"
      ],
      "text/plain": [
       "   Iris-setosa  Iris-versicolor  Iris-virginica      sum  predicted_class\n",
       "0     0.970108         0.029892        0.000000 1.000000      Iris-setosa\n",
       "1     0.983473         0.016527        0.000000 1.000000      Iris-setosa\n",
       "2     0.009075         0.840020        0.150905 1.000000  Iris-versicolor\n",
       "3     0.982785         0.017215        0.000000 1.000000      Iris-setosa\n",
       "4     0.000007         0.021160        0.978833 1.000000   Iris-virginica"
      ]
     },
     "execution_count": 14,
     "metadata": {},
     "output_type": "execute_result"
    }
   ],
   "source": [
    "# add the predicted classes…\n",
    "\n",
    "df['predicted_class'] = y_pred\n",
    "df.head()\n"
   ]
  },
  {
   "cell_type": "code",
   "execution_count": 15,
   "id": "62aeb4e7",
   "metadata": {},
   "outputs": [
    {
     "data": {
      "text/html": [
       "<div>\n",
       "<style scoped>\n",
       "    .dataframe tbody tr th:only-of-type {\n",
       "        vertical-align: middle;\n",
       "    }\n",
       "\n",
       "    .dataframe tbody tr th {\n",
       "        vertical-align: top;\n",
       "    }\n",
       "\n",
       "    .dataframe thead th {\n",
       "        text-align: right;\n",
       "    }\n",
       "</style>\n",
       "<table border=\"1\" class=\"dataframe\">\n",
       "  <thead>\n",
       "    <tr style=\"text-align: right;\">\n",
       "      <th></th>\n",
       "      <th>Iris-setosa</th>\n",
       "      <th>Iris-versicolor</th>\n",
       "      <th>Iris-virginica</th>\n",
       "      <th>sum</th>\n",
       "      <th>predicted_class</th>\n",
       "      <th>actual_class</th>\n",
       "    </tr>\n",
       "  </thead>\n",
       "  <tbody>\n",
       "    <tr>\n",
       "      <th>0</th>\n",
       "      <td>0.970108</td>\n",
       "      <td>0.029892</td>\n",
       "      <td>0.000000</td>\n",
       "      <td>1.000000</td>\n",
       "      <td>Iris-setosa</td>\n",
       "      <td>Iris-setosa</td>\n",
       "    </tr>\n",
       "    <tr>\n",
       "      <th>1</th>\n",
       "      <td>0.983473</td>\n",
       "      <td>0.016527</td>\n",
       "      <td>0.000000</td>\n",
       "      <td>1.000000</td>\n",
       "      <td>Iris-setosa</td>\n",
       "      <td>Iris-setosa</td>\n",
       "    </tr>\n",
       "    <tr>\n",
       "      <th>2</th>\n",
       "      <td>0.009075</td>\n",
       "      <td>0.840020</td>\n",
       "      <td>0.150905</td>\n",
       "      <td>1.000000</td>\n",
       "      <td>Iris-versicolor</td>\n",
       "      <td>Iris-versicolor</td>\n",
       "    </tr>\n",
       "    <tr>\n",
       "      <th>3</th>\n",
       "      <td>0.982785</td>\n",
       "      <td>0.017215</td>\n",
       "      <td>0.000000</td>\n",
       "      <td>1.000000</td>\n",
       "      <td>Iris-setosa</td>\n",
       "      <td>Iris-setosa</td>\n",
       "    </tr>\n",
       "    <tr>\n",
       "      <th>4</th>\n",
       "      <td>0.000007</td>\n",
       "      <td>0.021160</td>\n",
       "      <td>0.978833</td>\n",
       "      <td>1.000000</td>\n",
       "      <td>Iris-virginica</td>\n",
       "      <td>Iris-virginica</td>\n",
       "    </tr>\n",
       "  </tbody>\n",
       "</table>\n",
       "</div>"
      ],
      "text/plain": [
       "   Iris-setosa  Iris-versicolor  Iris-virginica      sum  predicted_class  \\\n",
       "0     0.970108         0.029892        0.000000 1.000000      Iris-setosa   \n",
       "1     0.983473         0.016527        0.000000 1.000000      Iris-setosa   \n",
       "2     0.009075         0.840020        0.150905 1.000000  Iris-versicolor   \n",
       "3     0.982785         0.017215        0.000000 1.000000      Iris-setosa   \n",
       "4     0.000007         0.021160        0.978833 1.000000   Iris-virginica   \n",
       "\n",
       "      actual_class  \n",
       "0      Iris-setosa  \n",
       "1      Iris-setosa  \n",
       "2  Iris-versicolor  \n",
       "3      Iris-setosa  \n",
       "4   Iris-virginica  "
      ]
     },
     "execution_count": 15,
     "metadata": {},
     "output_type": "execute_result"
    }
   ],
   "source": [
    "#actual classes:\n",
    "\n",
    "df['actual_class'] = testY.to_frame().reset_index().drop(columns='index')\n",
    "df.head()\n"
   ]
  },
  {
   "cell_type": "code",
   "execution_count": 16,
   "id": "831e5701",
   "metadata": {},
   "outputs": [
    {
     "data": {
      "text/html": [
       "<div>\n",
       "<style scoped>\n",
       "    .dataframe tbody tr th:only-of-type {\n",
       "        vertical-align: middle;\n",
       "    }\n",
       "\n",
       "    .dataframe tbody tr th {\n",
       "        vertical-align: top;\n",
       "    }\n",
       "\n",
       "    .dataframe thead th {\n",
       "        text-align: right;\n",
       "    }\n",
       "</style>\n",
       "<table border=\"1\" class=\"dataframe\">\n",
       "  <thead>\n",
       "    <tr style=\"text-align: right;\">\n",
       "      <th></th>\n",
       "      <th>Iris-setosa</th>\n",
       "      <th>Iris-versicolor</th>\n",
       "      <th>Iris-virginica</th>\n",
       "      <th>sum</th>\n",
       "      <th>predicted_class</th>\n",
       "      <th>actual_class</th>\n",
       "      <th>label_pred</th>\n",
       "      <th>label_actual</th>\n",
       "    </tr>\n",
       "  </thead>\n",
       "  <tbody>\n",
       "    <tr>\n",
       "      <th>0</th>\n",
       "      <td>0.970108</td>\n",
       "      <td>0.029892</td>\n",
       "      <td>0.000000</td>\n",
       "      <td>1.000000</td>\n",
       "      <td>Iris-setosa</td>\n",
       "      <td>Iris-setosa</td>\n",
       "      <td>0</td>\n",
       "      <td>0</td>\n",
       "    </tr>\n",
       "    <tr>\n",
       "      <th>1</th>\n",
       "      <td>0.983473</td>\n",
       "      <td>0.016527</td>\n",
       "      <td>0.000000</td>\n",
       "      <td>1.000000</td>\n",
       "      <td>Iris-setosa</td>\n",
       "      <td>Iris-setosa</td>\n",
       "      <td>0</td>\n",
       "      <td>0</td>\n",
       "    </tr>\n",
       "    <tr>\n",
       "      <th>2</th>\n",
       "      <td>0.009075</td>\n",
       "      <td>0.840020</td>\n",
       "      <td>0.150905</td>\n",
       "      <td>1.000000</td>\n",
       "      <td>Iris-versicolor</td>\n",
       "      <td>Iris-versicolor</td>\n",
       "      <td>1</td>\n",
       "      <td>1</td>\n",
       "    </tr>\n",
       "    <tr>\n",
       "      <th>3</th>\n",
       "      <td>0.982785</td>\n",
       "      <td>0.017215</td>\n",
       "      <td>0.000000</td>\n",
       "      <td>1.000000</td>\n",
       "      <td>Iris-setosa</td>\n",
       "      <td>Iris-setosa</td>\n",
       "      <td>0</td>\n",
       "      <td>0</td>\n",
       "    </tr>\n",
       "    <tr>\n",
       "      <th>4</th>\n",
       "      <td>0.000007</td>\n",
       "      <td>0.021160</td>\n",
       "      <td>0.978833</td>\n",
       "      <td>1.000000</td>\n",
       "      <td>Iris-virginica</td>\n",
       "      <td>Iris-virginica</td>\n",
       "      <td>2</td>\n",
       "      <td>2</td>\n",
       "    </tr>\n",
       "  </tbody>\n",
       "</table>\n",
       "</div>"
      ],
      "text/plain": [
       "   Iris-setosa  Iris-versicolor  Iris-virginica      sum  predicted_class  \\\n",
       "0     0.970108         0.029892        0.000000 1.000000      Iris-setosa   \n",
       "1     0.983473         0.016527        0.000000 1.000000      Iris-setosa   \n",
       "2     0.009075         0.840020        0.150905 1.000000  Iris-versicolor   \n",
       "3     0.982785         0.017215        0.000000 1.000000      Iris-setosa   \n",
       "4     0.000007         0.021160        0.978833 1.000000   Iris-virginica   \n",
       "\n",
       "      actual_class  label_pred  label_actual  \n",
       "0      Iris-setosa           0             0  \n",
       "1      Iris-setosa           0             0  \n",
       "2  Iris-versicolor           1             1  \n",
       "3      Iris-setosa           0             0  \n",
       "4   Iris-virginica           2             2  "
      ]
     },
     "execution_count": 16,
     "metadata": {},
     "output_type": "execute_result"
    }
   ],
   "source": [
    "#do a plausibility check whether the classes were predicted correctly.\n",
    "\n",
    "le = preprocessing.LabelEncoder()\n",
    "df['label_pred'] = le.fit_transform(df['predicted_class'])\n",
    "df['label_actual'] = le.fit_transform(df['actual_class'])\n",
    "df.head()\n"
   ]
  },
  {
   "cell_type": "code",
   "execution_count": 17,
   "id": "17f7c79b",
   "metadata": {},
   "outputs": [],
   "source": [
    "#see that the two variables (predicted_class & actual_class) were coded the same and can therefore be continued properly.\n"
   ]
  },
  {
   "cell_type": "code",
   "execution_count": 18,
   "id": "9a91a08f",
   "metadata": {},
   "outputs": [
    {
     "data": {
      "text/plain": [
       "{'Iris-setosa': 0, 'Iris-versicolor': 1, 'Iris-virginica': 2}"
      ]
     },
     "execution_count": 18,
     "metadata": {},
     "output_type": "execute_result"
    }
   ],
   "source": [
    "targets = df['predicted_class']\n",
    "integerEncoded = le.fit_transform(targets)\n",
    "integerMapping=dict(zip(targets,integerEncoded))\n",
    "integerMapping"
   ]
  },
  {
   "cell_type": "code",
   "execution_count": 19,
   "id": "0f512aae",
   "metadata": {},
   "outputs": [
    {
     "data": {
      "text/plain": [
       "{'Iris-setosa': 0, 'Iris-versicolor': 1, 'Iris-virginica': 2}"
      ]
     },
     "execution_count": 19,
     "metadata": {},
     "output_type": "execute_result"
    }
   ],
   "source": [
    "targets = df['actual_class']\n",
    "integerEncoded = le.fit_transform(targets)\n",
    "integerMapping=dict(zip(targets,integerEncoded))\n",
    "integerMapping\n"
   ]
  },
  {
   "cell_type": "code",
   "execution_count": 20,
   "id": "052874f4",
   "metadata": {},
   "outputs": [],
   "source": [
    "#plausibility check whether the classes were predicted correctly. If the result of subtraction is 0, it was a correct estimate of the model.\n"
   ]
  },
  {
   "cell_type": "code",
   "execution_count": 21,
   "id": "237c130f",
   "metadata": {},
   "outputs": [
    {
     "data": {
      "text/html": [
       "<div>\n",
       "<style scoped>\n",
       "    .dataframe tbody tr th:only-of-type {\n",
       "        vertical-align: middle;\n",
       "    }\n",
       "\n",
       "    .dataframe tbody tr th {\n",
       "        vertical-align: top;\n",
       "    }\n",
       "\n",
       "    .dataframe thead th {\n",
       "        text-align: right;\n",
       "    }\n",
       "</style>\n",
       "<table border=\"1\" class=\"dataframe\">\n",
       "  <thead>\n",
       "    <tr style=\"text-align: right;\">\n",
       "      <th></th>\n",
       "      <th>Iris-setosa</th>\n",
       "      <th>Iris-versicolor</th>\n",
       "      <th>Iris-virginica</th>\n",
       "      <th>sum</th>\n",
       "      <th>predicted_class</th>\n",
       "      <th>actual_class</th>\n",
       "      <th>label_pred</th>\n",
       "      <th>label_actual</th>\n",
       "      <th>check</th>\n",
       "    </tr>\n",
       "  </thead>\n",
       "  <tbody>\n",
       "    <tr>\n",
       "      <th>0</th>\n",
       "      <td>0.970108</td>\n",
       "      <td>0.029892</td>\n",
       "      <td>0.000000</td>\n",
       "      <td>1.000000</td>\n",
       "      <td>Iris-setosa</td>\n",
       "      <td>Iris-setosa</td>\n",
       "      <td>0</td>\n",
       "      <td>0</td>\n",
       "      <td>0</td>\n",
       "    </tr>\n",
       "    <tr>\n",
       "      <th>1</th>\n",
       "      <td>0.983473</td>\n",
       "      <td>0.016527</td>\n",
       "      <td>0.000000</td>\n",
       "      <td>1.000000</td>\n",
       "      <td>Iris-setosa</td>\n",
       "      <td>Iris-setosa</td>\n",
       "      <td>0</td>\n",
       "      <td>0</td>\n",
       "      <td>0</td>\n",
       "    </tr>\n",
       "    <tr>\n",
       "      <th>2</th>\n",
       "      <td>0.009075</td>\n",
       "      <td>0.840020</td>\n",
       "      <td>0.150905</td>\n",
       "      <td>1.000000</td>\n",
       "      <td>Iris-versicolor</td>\n",
       "      <td>Iris-versicolor</td>\n",
       "      <td>1</td>\n",
       "      <td>1</td>\n",
       "      <td>0</td>\n",
       "    </tr>\n",
       "    <tr>\n",
       "      <th>3</th>\n",
       "      <td>0.982785</td>\n",
       "      <td>0.017215</td>\n",
       "      <td>0.000000</td>\n",
       "      <td>1.000000</td>\n",
       "      <td>Iris-setosa</td>\n",
       "      <td>Iris-setosa</td>\n",
       "      <td>0</td>\n",
       "      <td>0</td>\n",
       "      <td>0</td>\n",
       "    </tr>\n",
       "    <tr>\n",
       "      <th>4</th>\n",
       "      <td>0.000007</td>\n",
       "      <td>0.021160</td>\n",
       "      <td>0.978833</td>\n",
       "      <td>1.000000</td>\n",
       "      <td>Iris-virginica</td>\n",
       "      <td>Iris-virginica</td>\n",
       "      <td>2</td>\n",
       "      <td>2</td>\n",
       "      <td>0</td>\n",
       "    </tr>\n",
       "    <tr>\n",
       "      <th>5</th>\n",
       "      <td>0.986430</td>\n",
       "      <td>0.013570</td>\n",
       "      <td>0.000000</td>\n",
       "      <td>1.000000</td>\n",
       "      <td>Iris-setosa</td>\n",
       "      <td>Iris-setosa</td>\n",
       "      <td>0</td>\n",
       "      <td>0</td>\n",
       "      <td>0</td>\n",
       "    </tr>\n",
       "    <tr>\n",
       "      <th>6</th>\n",
       "      <td>0.010521</td>\n",
       "      <td>0.924568</td>\n",
       "      <td>0.064912</td>\n",
       "      <td>1.000000</td>\n",
       "      <td>Iris-versicolor</td>\n",
       "      <td>Iris-versicolor</td>\n",
       "      <td>1</td>\n",
       "      <td>1</td>\n",
       "      <td>0</td>\n",
       "    </tr>\n",
       "  </tbody>\n",
       "</table>\n",
       "</div>"
      ],
      "text/plain": [
       "   Iris-setosa  Iris-versicolor  Iris-virginica      sum  predicted_class  \\\n",
       "0     0.970108         0.029892        0.000000 1.000000      Iris-setosa   \n",
       "1     0.983473         0.016527        0.000000 1.000000      Iris-setosa   \n",
       "2     0.009075         0.840020        0.150905 1.000000  Iris-versicolor   \n",
       "3     0.982785         0.017215        0.000000 1.000000      Iris-setosa   \n",
       "4     0.000007         0.021160        0.978833 1.000000   Iris-virginica   \n",
       "5     0.986430         0.013570        0.000000 1.000000      Iris-setosa   \n",
       "6     0.010521         0.924568        0.064912 1.000000  Iris-versicolor   \n",
       "\n",
       "      actual_class  label_pred  label_actual  check  \n",
       "0      Iris-setosa           0             0      0  \n",
       "1      Iris-setosa           0             0      0  \n",
       "2  Iris-versicolor           1             1      0  \n",
       "3      Iris-setosa           0             0      0  \n",
       "4   Iris-virginica           2             2      0  \n",
       "5      Iris-setosa           0             0      0  \n",
       "6  Iris-versicolor           1             1      0  "
      ]
     },
     "execution_count": 21,
     "metadata": {},
     "output_type": "execute_result"
    }
   ],
   "source": [
    "df['check'] = df['label_actual'] - df['label_pred']\n",
    "df.head(7)\n"
   ]
  },
  {
   "cell_type": "code",
   "execution_count": 22,
   "id": "265443df",
   "metadata": {},
   "outputs": [
    {
     "data": {
      "text/html": [
       "<div>\n",
       "<style scoped>\n",
       "    .dataframe tbody tr th:only-of-type {\n",
       "        vertical-align: middle;\n",
       "    }\n",
       "\n",
       "    .dataframe tbody tr th {\n",
       "        vertical-align: top;\n",
       "    }\n",
       "\n",
       "    .dataframe thead th {\n",
       "        text-align: right;\n",
       "    }\n",
       "</style>\n",
       "<table border=\"1\" class=\"dataframe\">\n",
       "  <thead>\n",
       "    <tr style=\"text-align: right;\">\n",
       "      <th></th>\n",
       "      <th>Iris-setosa</th>\n",
       "      <th>Iris-versicolor</th>\n",
       "      <th>Iris-virginica</th>\n",
       "      <th>sum</th>\n",
       "      <th>predicted_class</th>\n",
       "      <th>actual_class</th>\n",
       "      <th>correct_prediction?</th>\n",
       "    </tr>\n",
       "  </thead>\n",
       "  <tbody>\n",
       "    <tr>\n",
       "      <th>0</th>\n",
       "      <td>0.970108</td>\n",
       "      <td>0.029892</td>\n",
       "      <td>0.000000</td>\n",
       "      <td>1.000000</td>\n",
       "      <td>Iris-setosa</td>\n",
       "      <td>Iris-setosa</td>\n",
       "      <td>True</td>\n",
       "    </tr>\n",
       "    <tr>\n",
       "      <th>1</th>\n",
       "      <td>0.983473</td>\n",
       "      <td>0.016527</td>\n",
       "      <td>0.000000</td>\n",
       "      <td>1.000000</td>\n",
       "      <td>Iris-setosa</td>\n",
       "      <td>Iris-setosa</td>\n",
       "      <td>True</td>\n",
       "    </tr>\n",
       "    <tr>\n",
       "      <th>2</th>\n",
       "      <td>0.009075</td>\n",
       "      <td>0.840020</td>\n",
       "      <td>0.150905</td>\n",
       "      <td>1.000000</td>\n",
       "      <td>Iris-versicolor</td>\n",
       "      <td>Iris-versicolor</td>\n",
       "      <td>True</td>\n",
       "    </tr>\n",
       "    <tr>\n",
       "      <th>3</th>\n",
       "      <td>0.982785</td>\n",
       "      <td>0.017215</td>\n",
       "      <td>0.000000</td>\n",
       "      <td>1.000000</td>\n",
       "      <td>Iris-setosa</td>\n",
       "      <td>Iris-setosa</td>\n",
       "      <td>True</td>\n",
       "    </tr>\n",
       "    <tr>\n",
       "      <th>4</th>\n",
       "      <td>0.000007</td>\n",
       "      <td>0.021160</td>\n",
       "      <td>0.978833</td>\n",
       "      <td>1.000000</td>\n",
       "      <td>Iris-virginica</td>\n",
       "      <td>Iris-virginica</td>\n",
       "      <td>True</td>\n",
       "    </tr>\n",
       "  </tbody>\n",
       "</table>\n",
       "</div>"
      ],
      "text/plain": [
       "   Iris-setosa  Iris-versicolor  Iris-virginica      sum  predicted_class  \\\n",
       "0     0.970108         0.029892        0.000000 1.000000      Iris-setosa   \n",
       "1     0.983473         0.016527        0.000000 1.000000      Iris-setosa   \n",
       "2     0.009075         0.840020        0.150905 1.000000  Iris-versicolor   \n",
       "3     0.982785         0.017215        0.000000 1.000000      Iris-setosa   \n",
       "4     0.000007         0.021160        0.978833 1.000000   Iris-virginica   \n",
       "\n",
       "      actual_class correct_prediction?  \n",
       "0      Iris-setosa                True  \n",
       "1      Iris-setosa                True  \n",
       "2  Iris-versicolor                True  \n",
       "3      Iris-setosa                True  \n",
       "4   Iris-virginica                True  "
      ]
     },
     "execution_count": 22,
     "metadata": {},
     "output_type": "execute_result"
    }
   ],
   "source": [
    "#For better orientation, we give the observations descriptive names and delete unnecessary columns.\n",
    "\n",
    "df['correct_prediction?'] = np.where(df['check'] == 0, 'True', 'False')\n",
    "df = df.drop(['label_pred', 'label_actual', 'check'], axis=1)\n",
    "df.head()\n"
   ]
  },
  {
   "cell_type": "code",
   "execution_count": 23,
   "id": "d1d310ec",
   "metadata": {},
   "outputs": [
    {
     "name": "stdout",
     "output_type": "stream",
     "text": [
      "manual calculated Accuracy is: 100.0\n"
     ]
    }
   ],
   "source": [
    " #use the generated “values” to manually calculate the accuracy again.\n",
    "    \n",
    "true_predictions = df[(df[\"correct_prediction?\"] == 'True')].shape[0]\n",
    "false_predictions = df[(df[\"correct_prediction?\"] == 'False')].shape[0]\n",
    "total = df[\"correct_prediction?\"].shape[0]\n",
    "print('manual calculated Accuracy is:', (true_predictions / total * 100))"
   ]
  },
  {
   "cell_type": "code",
   "execution_count": 24,
   "id": "4fe5381f",
   "metadata": {},
   "outputs": [
    {
     "data": {
      "text/html": [
       "<div>\n",
       "<style scoped>\n",
       "    .dataframe tbody tr th:only-of-type {\n",
       "        vertical-align: middle;\n",
       "    }\n",
       "\n",
       "    .dataframe tbody tr th {\n",
       "        vertical-align: top;\n",
       "    }\n",
       "\n",
       "    .dataframe thead th {\n",
       "        text-align: right;\n",
       "    }\n",
       "</style>\n",
       "<table border=\"1\" class=\"dataframe\">\n",
       "  <thead>\n",
       "    <tr style=\"text-align: right;\">\n",
       "      <th></th>\n",
       "      <th>Iris-setosa</th>\n",
       "      <th>Iris-versicolor</th>\n",
       "      <th>Iris-virginica</th>\n",
       "      <th>sum</th>\n",
       "      <th>predicted_class</th>\n",
       "      <th>actual_class</th>\n",
       "      <th>correct_prediction?</th>\n",
       "    </tr>\n",
       "  </thead>\n",
       "  <tbody>\n",
       "  </tbody>\n",
       "</table>\n",
       "</div>"
      ],
      "text/plain": [
       "Empty DataFrame\n",
       "Columns: [Iris-setosa, Iris-versicolor, Iris-virginica, sum, predicted_class, actual_class, correct_prediction?]\n",
       "Index: []"
      ]
     },
     "execution_count": 24,
     "metadata": {},
     "output_type": "execute_result"
    }
   ],
   "source": [
    "#take finally a look at the probabilities of the mispredicted classes\n",
    "wrong_pred = df[(df[\"correct_prediction?\"] == 'False')]\n",
    "wrong_pred\n"
   ]
  },
  {
   "cell_type": "code",
   "execution_count": 25,
   "id": "6d6053be",
   "metadata": {},
   "outputs": [
    {
     "name": "stdout",
     "output_type": "stream",
     "text": [
      "Warning: Maximum number of iterations has been exceeded.\n",
      "         Current function value: 0.039662\n",
      "         Iterations: 35\n",
      "                          MNLogit Regression Results                          \n",
      "==============================================================================\n",
      "Dep. Variable:                species   No. Observations:                  150\n",
      "Model:                        MNLogit   Df Residuals:                      140\n",
      "Method:                           MLE   Df Model:                            8\n",
      "Date:                Fri, 27 May 2022   Pseudo R-squ.:                  0.9639\n",
      "Time:                        16:39:31   Log-Likelihood:                -5.9493\n",
      "converged:                      False   LL-Null:                       -164.79\n",
      "Covariance Type:            nonrobust   LLR p-value:                 7.055e-64\n",
      "==========================================================================================\n",
      "species=Iris-versicolor       coef    std err          z      P>|z|      [0.025      0.975]\n",
      "-------------------------------------------------------------------------------------------\n",
      "sepal_length               -0.4880   2.54e+04  -1.92e-05      1.000   -4.98e+04    4.98e+04\n",
      "sepal_width               -13.9801   4.06e+04     -0.000      1.000   -7.96e+04    7.96e+04\n",
      "petal_length               14.4645   1.61e+04      0.001      0.999   -3.16e+04    3.16e+04\n",
      "petal_width                11.0469   2.62e+04      0.000      1.000   -5.14e+04    5.14e+04\n",
      "const                      -4.3766   6.94e+04  -6.31e-05      1.000   -1.36e+05    1.36e+05\n",
      "-------------------------------------------------------------------------------------------\n",
      "species=Iris-virginica       coef    std err          z      P>|z|      [0.025      0.975]\n",
      "------------------------------------------------------------------------------------------\n",
      "sepal_length              -2.9532   2.54e+04     -0.000      1.000   -4.98e+04    4.98e+04\n",
      "sepal_width              -20.6610   4.06e+04     -0.001      1.000   -7.96e+04    7.96e+04\n",
      "petal_length              23.8939   1.61e+04      0.001      0.999   -3.16e+04    3.16e+04\n",
      "petal_width               29.3330   2.62e+04      0.001      0.999   -5.14e+04    5.14e+04\n",
      "const                    -47.0144   6.94e+04     -0.001      0.999   -1.36e+05    1.36e+05\n",
      "==========================================================================================\n"
     ]
    },
    {
     "name": "stderr",
     "output_type": "stream",
     "text": [
      "c:\\users\\harsh\\appdata\\local\\programs\\python\\python38\\lib\\site-packages\\statsmodels\\base\\model.py:604: ConvergenceWarning: Maximum Likelihood optimization failed to converge. Check mle_retvals\n",
      "  warnings.warn(\"Maximum Likelihood optimization failed to \"\n"
     ]
    }
   ],
   "source": [
    "#Multinomial Logit with the statsmodel library\n",
    "#To get the p-values of the model created above we have to use the statsmodel library again.\n",
    "\n",
    "x = iris.drop('species', axis=1)\n",
    "y = iris['species']\n",
    "x = sm.add_constant(x, prepend = False)\n",
    "mnlogit_mod = sm.MNLogit(y, x)\n",
    "mnlogit_fit = mnlogit_mod.fit()\n",
    "print (mnlogit_fit.summary())\n"
   ]
  },
  {
   "cell_type": "code",
   "execution_count": null,
   "id": "571510fd",
   "metadata": {},
   "outputs": [],
   "source": []
  }
 ],
 "metadata": {
  "kernelspec": {
   "display_name": "Python 3 (ipykernel)",
   "language": "python",
   "name": "python3"
  },
  "language_info": {
   "codemirror_mode": {
    "name": "ipython",
    "version": 3
   },
   "file_extension": ".py",
   "mimetype": "text/x-python",
   "name": "python",
   "nbconvert_exporter": "python",
   "pygments_lexer": "ipython3",
   "version": "3.8.0"
  }
 },
 "nbformat": 4,
 "nbformat_minor": 5
}
