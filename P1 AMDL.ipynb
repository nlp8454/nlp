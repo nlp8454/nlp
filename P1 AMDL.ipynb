{
 "cells": [
  {
   "cell_type": "code",
   "execution_count": 1,
   "id": "ac0fc9cc",
   "metadata": {},
   "outputs": [],
   "source": [
    "# Import Dependencies\n",
    "\n",
    "import numpy as np\n",
    "import matplotlib.pyplot as plt\n",
    "from sklearn import datasets,linear_model\n",
    "from sklearn.model_selection import train_test_split\n",
    "from sklearn.metrics import mean_squared_error\n"
   ]
  },
  {
   "cell_type": "code",
   "execution_count": 2,
   "id": "d57ce954",
   "metadata": {},
   "outputs": [],
   "source": [
    "# Load the diabetes dataset\n",
    "\n",
    "diabetes=datasets.load_diabetes()"
   ]
  },
  {
   "cell_type": "code",
   "execution_count": 3,
   "id": "b560f2ad",
   "metadata": {},
   "outputs": [],
   "source": [
    "# X - feature vectors\n",
    "# y - Target values\n",
    "\n",
    "X=diabetes.data\n",
    "y=diabetes.target"
   ]
  },
  {
   "cell_type": "code",
   "execution_count": 4,
   "id": "42ce379e",
   "metadata": {},
   "outputs": [],
   "source": [
    "# splitting X and y into training and testing sets\n",
    "\n",
    "X_train, X_test, y_train, y_test = train_test_split(X, y, test_size=0.4, random_state=1)\n"
   ]
  },
  {
   "cell_type": "code",
   "execution_count": 5,
   "id": "d6350cbe",
   "metadata": {},
   "outputs": [],
   "source": [
    "# Create linear regression object\n",
    "\n",
    "lin_reg=linear_model.LinearRegression()"
   ]
  },
  {
   "cell_type": "code",
   "execution_count": 6,
   "id": "639a4b90",
   "metadata": {},
   "outputs": [
    {
     "data": {
      "text/plain": [
       "LinearRegression()"
      ]
     },
     "execution_count": 6,
     "metadata": {},
     "output_type": "execute_result"
    }
   ],
   "source": [
    "# Train the model using train and test data\n",
    "\n",
    "lin_reg.fit(X_train,y_train)"
   ]
  },
  {
   "cell_type": "code",
   "execution_count": 7,
   "id": "8533e091",
   "metadata": {},
   "outputs": [],
   "source": [
    "# Predict values for X_test data\n",
    "\n",
    "predicted = lin_reg.predict(X_test)"
   ]
  },
  {
   "cell_type": "code",
   "execution_count": 8,
   "id": "0e21a488",
   "metadata": {},
   "outputs": [
    {
     "name": "stdout",
     "output_type": "stream",
     "text": [
      "\n",
      " Coefficients are:\n",
      " [ -59.73663337 -215.62170919  599.92621335  291.96724002 -829.65206295\n",
      "  544.63994617  164.85191153  224.2392528   768.94426062   70.84982207]\n",
      "\n",
      "Intercept :  152.89009028286725\n",
      "Variance score:  0.4160439011127657\n"
     ]
    }
   ],
   "source": [
    "# Regression coefficients\n",
    "\n",
    "print('\\n Coefficients are:\\n',lin_reg.coef_)\n",
    "\n",
    "# Intercept\n",
    "\n",
    "print('\\nIntercept : ',lin_reg.intercept_)\n",
    "\n",
    "# variance score: 1 means perfect prediction\n",
    "\n",
    "print('Variance score: ',lin_reg.score(X_test, y_test))"
   ]
  },
  {
   "cell_type": "code",
   "execution_count": 9,
   "id": "84c91055",
   "metadata": {},
   "outputs": [
    {
     "name": "stdout",
     "output_type": "stream",
     "text": [
      "Mean squared error: 2962.93\n",
      "\n"
     ]
    }
   ],
   "source": [
    "# Mean Squared Error\n",
    "    \n",
    "print(\"Mean squared error: %.2f\\n\"\n",
    "% mean_squared_error(y_test, predicted))\n",
    "\n",
    "# Original data of X_test\n",
    "\n",
    "expected = y_test"
   ]
  },
  {
   "cell_type": "code",
   "execution_count": 10,
   "id": "7e53ec80",
   "metadata": {},
   "outputs": [
    {
     "data": {
      "image/png": "[encoded data removed]",
      "text/plain": [
       "<Figure size 432x288 with 1 Axes>"
      ]
     },
     "metadata": {
      "needs_background": "light"
     },
     "output_type": "display_data"
    }
   ],
   "source": [
    "# Plot a graph for expected and predicted values\n",
    "    \n",
    "plt.title('Linear Regression ( DIABETES Dataset)')\n",
    "plt.scatter(expected,predicted,c='b',marker='.',s=36)\n",
    "plt.plot(np.linspace(0, 330, 100),np.linspace(0, 330, 100), '--r', linewidth=2)\n",
    "plt.show()\n"
   ]
  }
 ],
 "metadata": {
  "kernelspec": {
   "display_name": "Python 3 (ipykernel)",
   "language": "python",
   "name": "python3"
  },
  "language_info": {
   "codemirror_mode": {
    "name": "ipython",
    "version": 3
   },
   "file_extension": ".py",
   "mimetype": "text/x-python",
   "name": "python",
   "nbconvert_exporter": "python",
   "pygments_lexer": "ipython3",
   "version": "3.8.0"
  }
 },
 "nbformat": 4,
 "nbformat_minor": 5
}
