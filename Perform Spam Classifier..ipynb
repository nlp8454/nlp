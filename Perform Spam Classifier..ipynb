{
 "cells": [
  {
   "cell_type": "code",
   "execution_count": null,
   "metadata": {
    "id": "B358fOnrnniu"
   },
   "outputs": [],
   "source": [
    "import numpy as np\n",
    "import pandas as pd\n",
    "import matplotlib.pyplot as plt\n",
    "import seaborn as sns\n",
    "import scipy as sp\n",
    "from google.colab import drive\n",
    "from sklearn import feature_extraction, model_selection, naive_bayes, metrics, svm\n",
    "from sklearn.ensemble import RandomForestClassifier\n",
    "from sklearn.model_selection import train_test_split\n",
    "from sklearn.metrics import precision_recall_fscore_support as score"
   ]
  },
  {
   "cell_type": "code",
   "execution_count": null,
   "metadata": {
    "colab": {
     "base_uri": "https://localhost:8080/"
    },
    "executionInfo": {
     "elapsed": 3249,
     "status": "ok",
     "timestamp": 1652367257876,
     "user": {
      "displayName": "Lucky dubey",
      "userId": "03545018147732918490"
     },
     "user_tz": -330
    },
    "id": "2WMP1h7On58x",
    "outputId": "fda1cd71-1354-4cf5-ad40-cf1dbae7f50a"
   },
   "outputs": [
    {
     "name": "stdout",
     "output_type": "stream",
     "text": [
      "Drive already mounted at /content/drive; to attempt to forcibly remount, call drive.mount(\"/content/drive\", force_remount=True).\n"
     ]
    }
   ],
   "source": [
    "drive.mount('/content/drive')"
   ]
  },
  {
   "cell_type": "code",
   "execution_count": null,
   "metadata": {
    "id": "SY8c6zxxpo_F"
   },
   "outputs": [],
   "source": [
    "dataset =pd.read_csv(\"/content/drive/My Drive/spam.csv\", encoding='latin-1')"
   ]
  },
  {
   "cell_type": "code",
   "execution_count": null,
   "metadata": {
    "colab": {
     "base_uri": "https://localhost:8080/",
     "height": 206
    },
    "executionInfo": {
     "elapsed": 567,
     "status": "ok",
     "timestamp": 1652367265412,
     "user": {
      "displayName": "Lucky dubey",
      "userId": "03545018147732918490"
     },
     "user_tz": -330
    },
    "id": "UctAnYVUqfuZ",
    "outputId": "ec435dbc-4f33-43a4-934a-e96f2fc24a0d"
   },
   "outputs": [
    {
     "data": {
      "text/html": [
       "\n",
       "  <div id=\"df-93154062-3dd4-494f-a3cd-cf39fad72683\">\n",
       "    <div class=\"colab-df-container\">\n",
       "      <div>\n",
       "<style scoped>\n",
       "    .dataframe tbody tr th:only-of-type {\n",
       "        vertical-align: middle;\n",
       "    }\n",
       "\n",
       "    .dataframe tbody tr th {\n",
       "        vertical-align: top;\n",
       "    }\n",
       "\n",
       "    .dataframe thead th {\n",
       "        text-align: right;\n",
       "    }\n",
       "</style>\n",
       "<table border=\"1\" class=\"dataframe\">\n",
       "  <thead>\n",
       "    <tr style=\"text-align: right;\">\n",
       "      <th></th>\n",
       "      <th>v1</th>\n",
       "      <th>v2</th>\n",
       "      <th>Unnamed: 2</th>\n",
       "      <th>Unnamed: 3</th>\n",
       "      <th>Unnamed: 4</th>\n",
       "    </tr>\n",
       "  </thead>\n",
       "  <tbody>\n",
       "    <tr>\n",
       "      <th>0</th>\n",
       "      <td>ham</td>\n",
       "      <td>Go until jurong point, crazy.. Available only ...</td>\n",
       "      <td>NaN</td>\n",
       "      <td>NaN</td>\n",
       "      <td>NaN</td>\n",
       "    </tr>\n",
       "    <tr>\n",
       "      <th>1</th>\n",
       "      <td>ham</td>\n",
       "      <td>Ok lar... Joking wif u oni...</td>\n",
       "      <td>NaN</td>\n",
       "      <td>NaN</td>\n",
       "      <td>NaN</td>\n",
       "    </tr>\n",
       "    <tr>\n",
       "      <th>2</th>\n",
       "      <td>spam</td>\n",
       "      <td>Free entry in 2 a wkly comp to win FA Cup fina...</td>\n",
       "      <td>NaN</td>\n",
       "      <td>NaN</td>\n",
       "      <td>NaN</td>\n",
       "    </tr>\n",
       "    <tr>\n",
       "      <th>3</th>\n",
       "      <td>ham</td>\n",
       "      <td>U dun say so early hor... U c already then say...</td>\n",
       "      <td>NaN</td>\n",
       "      <td>NaN</td>\n",
       "      <td>NaN</td>\n",
       "    </tr>\n",
       "    <tr>\n",
       "      <th>4</th>\n",
       "      <td>ham</td>\n",
       "      <td>Nah I don't think he goes to usf, he lives aro...</td>\n",
       "      <td>NaN</td>\n",
       "      <td>NaN</td>\n",
       "      <td>NaN</td>\n",
       "    </tr>\n",
       "  </tbody>\n",
       "</table>\n",
       "</div>\n",
       "      <button class=\"colab-df-convert\" onclick=\"convertToInteractive('df-93154062-3dd4-494f-a3cd-cf39fad72683')\"\n",
       "              title=\"Convert this dataframe to an interactive table.\"\n",
       "              style=\"display:none;\">\n",
       "        \n",
       "  <svg xmlns=\"http://www.w3.org/2000/svg\" height=\"24px\"viewBox=\"0 0 24 24\"\n",
       "       width=\"24px\">\n",
       "    <path d=\"M0 0h24v24H0V0z\" fill=\"none\"/>\n",
       "    <path d=\"M18.56 5.44l.94 2.06.94-2.06 2.06-.94-2.06-.94-.94-2.06-.94 2.06-2.06.94zm-11 1L8.5 8.5l.94-2.06 2.06-.94-2.06-.94L8.5 2.5l-.94 2.06-2.06.94zm10 10l.94 2.06.94-2.06 2.06-.94-2.06-.94-.94-2.06-.94 2.06-2.06.94z\"/><path d=\"M17.41 7.96l-1.37-1.37c-.4-.4-.92-.59-1.43-.59-.52 0-1.04.2-1.43.59L10.3 9.45l-7.72 7.72c-.78.78-.78 2.05 0 2.83L4 21.41c.39.39.9.59 1.41.59.51 0 1.02-.2 1.41-.59l7.78-7.78 2.81-2.81c.8-.78.8-2.07 0-2.86zM5.41 20L4 18.59l7.72-7.72 1.47 1.35L5.41 20z\"/>\n",
       "  </svg>\n",
       "      </button>\n",
       "      \n",
       "  <style>\n",
       "    .colab-df-container {\n",
       "      display:flex;\n",
       "      flex-wrap:wrap;\n",
       "      gap: 12px;\n",
       "    }\n",
       "\n",
       "    .colab-df-convert {\n",
       "      background-color: #E8F0FE;\n",
       "      border: none;\n",
       "      border-radius: 50%;\n",
       "      cursor: pointer;\n",
       "      display: none;\n",
       "      fill: #1967D2;\n",
       "      height: 32px;\n",
       "      padding: 0 0 0 0;\n",
       "      width: 32px;\n",
       "    }\n",
       "\n",
       "    .colab-df-convert:hover {\n",
       "      background-color: #E2EBFA;\n",
       "      box-shadow: 0px 1px 2px rgba(60, 64, 67, 0.3), 0px 1px 3px 1px rgba(60, 64, 67, 0.15);\n",
       "      fill: #174EA6;\n",
       "    }\n",
       "\n",
       "    [theme=dark] .colab-df-convert {\n",
       "      background-color: #3B4455;\n",
       "      fill: #D2E3FC;\n",
       "    }\n",
       "\n",
       "    [theme=dark] .colab-df-convert:hover {\n",
       "      background-color: #434B5C;\n",
       "      box-shadow: 0px 1px 3px 1px rgba(0, 0, 0, 0.15);\n",
       "      filter: drop-shadow(0px 1px 2px rgba(0, 0, 0, 0.3));\n",
       "      fill: #FFFFFF;\n",
       "    }\n",
       "  </style>\n",
       "\n",
       "      <script>\n",
       "        const buttonEl =\n",
       "          document.querySelector('#df-93154062-3dd4-494f-a3cd-cf39fad72683 button.colab-df-convert');\n",
       "        buttonEl.style.display =\n",
       "          google.colab.kernel.accessAllowed ? 'block' : 'none';\n",
       "\n",
       "        async function convertToInteractive(key) {\n",
       "          const element = document.querySelector('#df-93154062-3dd4-494f-a3cd-cf39fad72683');\n",
       "          const dataTable =\n",
       "            await google.colab.kernel.invokeFunction('convertToInteractive',\n",
       "                                                     [key], {});\n",
       "          if (!dataTable) return;\n",
       "\n",
       "          const docLinkHtml = 'Like what you see? Visit the ' +\n",
       "            '<a target=\"_blank\" href=https://colab.research.google.com/notebooks/data_table.ipynb>data table notebook</a>'\n",
       "            + ' to learn more about interactive tables.';\n",
       "          element.innerHTML = '';\n",
       "          dataTable['output_type'] = 'display_data';\n",
       "          await google.colab.output.renderOutput(dataTable, element);\n",
       "          const docLink = document.createElement('div');\n",
       "          docLink.innerHTML = docLinkHtml;\n",
       "          element.appendChild(docLink);\n",
       "        }\n",
       "      </script>\n",
       "    </div>\n",
       "  </div>\n",
       "  "
      ],
      "text/plain": [
       "     v1                                                 v2 Unnamed: 2  \\\n",
       "0   ham  Go until jurong point, crazy.. Available only ...        NaN   \n",
       "1   ham                      Ok lar... Joking wif u oni...        NaN   \n",
       "2  spam  Free entry in 2 a wkly comp to win FA Cup fina...        NaN   \n",
       "3   ham  U dun say so early hor... U c already then say...        NaN   \n",
       "4   ham  Nah I don't think he goes to usf, he lives aro...        NaN   \n",
       "\n",
       "  Unnamed: 3 Unnamed: 4  \n",
       "0        NaN        NaN  \n",
       "1        NaN        NaN  \n",
       "2        NaN        NaN  \n",
       "3        NaN        NaN  \n",
       "4        NaN        NaN  "
      ]
     },
     "execution_count": 11,
     "metadata": {},
     "output_type": "execute_result"
    }
   ],
   "source": [
    "dataset.head()"
   ]
  },
  {
   "cell_type": "code",
   "execution_count": null,
   "metadata": {
    "id": "ob0hpuIXq0F3"
   },
   "outputs": [],
   "source": [
    "#removing unnamed columns\n",
    "dataset = dataset.drop('Unnamed: 2', 1)\n",
    "dataset = dataset.drop('Unnamed: 3', 1)\n",
    "dataset = dataset.drop('Unnamed: 4', 1)\n",
    "dataset.head()\n"
   ]
  },
  {
   "cell_type": "code",
   "execution_count": null,
   "metadata": {
    "id": "KyvyCk7pq6SP"
   },
   "outputs": [],
   "source": [
    "dataset = dataset.rename(columns = {'v1':'label','v2':'message'})"
   ]
  },
  {
   "cell_type": "code",
   "execution_count": null,
   "metadata": {
    "colab": {
     "base_uri": "https://localhost:8080/",
     "height": 175
    },
    "executionInfo": {
     "elapsed": 395,
     "status": "ok",
     "timestamp": 1652367422478,
     "user": {
      "displayName": "Lucky dubey",
      "userId": "03545018147732918490"
     },
     "user_tz": -330
    },
    "id": "5Ip5Y_SMq_yH",
    "outputId": "6ba231d6-00c6-4bdc-bffc-5a2cfd06c1d5"
   },
   "outputs": [
    {
     "data": {
      "text/html": [
       "\n",
       "  <div id=\"df-e59f74ba-1ab3-43c4-96f6-bc38cf4e89d4\">\n",
       "    <div class=\"colab-df-container\">\n",
       "      <div>\n",
       "<style scoped>\n",
       "    .dataframe tbody tr th:only-of-type {\n",
       "        vertical-align: middle;\n",
       "    }\n",
       "\n",
       "    .dataframe tbody tr th {\n",
       "        vertical-align: top;\n",
       "    }\n",
       "\n",
       "    .dataframe thead tr th {\n",
       "        text-align: left;\n",
       "    }\n",
       "\n",
       "    .dataframe thead tr:last-of-type th {\n",
       "        text-align: right;\n",
       "    }\n",
       "</style>\n",
       "<table border=\"1\" class=\"dataframe\">\n",
       "  <thead>\n",
       "    <tr>\n",
       "      <th></th>\n",
       "      <th colspan=\"4\" halign=\"left\">message</th>\n",
       "    </tr>\n",
       "    <tr>\n",
       "      <th></th>\n",
       "      <th>count</th>\n",
       "      <th>unique</th>\n",
       "      <th>top</th>\n",
       "      <th>freq</th>\n",
       "    </tr>\n",
       "    <tr>\n",
       "      <th>label</th>\n",
       "      <th></th>\n",
       "      <th></th>\n",
       "      <th></th>\n",
       "      <th></th>\n",
       "    </tr>\n",
       "  </thead>\n",
       "  <tbody>\n",
       "    <tr>\n",
       "      <th>ham</th>\n",
       "      <td>4825</td>\n",
       "      <td>4516</td>\n",
       "      <td>Sorry, I'll call later</td>\n",
       "      <td>30</td>\n",
       "    </tr>\n",
       "    <tr>\n",
       "      <th>spam</th>\n",
       "      <td>747</td>\n",
       "      <td>653</td>\n",
       "      <td>Please call our customer service representativ...</td>\n",
       "      <td>4</td>\n",
       "    </tr>\n",
       "  </tbody>\n",
       "</table>\n",
       "</div>\n",
       "      <button class=\"colab-df-convert\" onclick=\"convertToInteractive('df-e59f74ba-1ab3-43c4-96f6-bc38cf4e89d4')\"\n",
       "              title=\"Convert this dataframe to an interactive table.\"\n",
       "              style=\"display:none;\">\n",
       "        \n",
       "  <svg xmlns=\"http://www.w3.org/2000/svg\" height=\"24px\"viewBox=\"0 0 24 24\"\n",
       "       width=\"24px\">\n",
       "    <path d=\"M0 0h24v24H0V0z\" fill=\"none\"/>\n",
       "    <path d=\"M18.56 5.44l.94 2.06.94-2.06 2.06-.94-2.06-.94-.94-2.06-.94 2.06-2.06.94zm-11 1L8.5 8.5l.94-2.06 2.06-.94-2.06-.94L8.5 2.5l-.94 2.06-2.06.94zm10 10l.94 2.06.94-2.06 2.06-.94-2.06-.94-.94-2.06-.94 2.06-2.06.94z\"/><path d=\"M17.41 7.96l-1.37-1.37c-.4-.4-.92-.59-1.43-.59-.52 0-1.04.2-1.43.59L10.3 9.45l-7.72 7.72c-.78.78-.78 2.05 0 2.83L4 21.41c.39.39.9.59 1.41.59.51 0 1.02-.2 1.41-.59l7.78-7.78 2.81-2.81c.8-.78.8-2.07 0-2.86zM5.41 20L4 18.59l7.72-7.72 1.47 1.35L5.41 20z\"/>\n",
       "  </svg>\n",
       "      </button>\n",
       "      \n",
       "  <style>\n",
       "    .colab-df-container {\n",
       "      display:flex;\n",
       "      flex-wrap:wrap;\n",
       "      gap: 12px;\n",
       "    }\n",
       "\n",
       "    .colab-df-convert {\n",
       "      background-color: #E8F0FE;\n",
       "      border: none;\n",
       "      border-radius: 50%;\n",
       "      cursor: pointer;\n",
       "      display: none;\n",
       "      fill: #1967D2;\n",
       "      height: 32px;\n",
       "      padding: 0 0 0 0;\n",
       "      width: 32px;\n",
       "    }\n",
       "\n",
       "    .colab-df-convert:hover {\n",
       "      background-color: #E2EBFA;\n",
       "      box-shadow: 0px 1px 2px rgba(60, 64, 67, 0.3), 0px 1px 3px 1px rgba(60, 64, 67, 0.15);\n",
       "      fill: #174EA6;\n",
       "    }\n",
       "\n",
       "    [theme=dark] .colab-df-convert {\n",
       "      background-color: #3B4455;\n",
       "      fill: #D2E3FC;\n",
       "    }\n",
       "\n",
       "    [theme=dark] .colab-df-convert:hover {\n",
       "      background-color: #434B5C;\n",
       "      box-shadow: 0px 1px 3px 1px rgba(0, 0, 0, 0.15);\n",
       "      filter: drop-shadow(0px 1px 2px rgba(0, 0, 0, 0.3));\n",
       "      fill: #FFFFFF;\n",
       "    }\n",
       "  </style>\n",
       "\n",
       "      <script>\n",
       "        const buttonEl =\n",
       "          document.querySelector('#df-e59f74ba-1ab3-43c4-96f6-bc38cf4e89d4 button.colab-df-convert');\n",
       "        buttonEl.style.display =\n",
       "          google.colab.kernel.accessAllowed ? 'block' : 'none';\n",
       "\n",
       "        async function convertToInteractive(key) {\n",
       "          const element = document.querySelector('#df-e59f74ba-1ab3-43c4-96f6-bc38cf4e89d4');\n",
       "          const dataTable =\n",
       "            await google.colab.kernel.invokeFunction('convertToInteractive',\n",
       "                                                     [key], {});\n",
       "          if (!dataTable) return;\n",
       "\n",
       "          const docLinkHtml = 'Like what you see? Visit the ' +\n",
       "            '<a target=\"_blank\" href=https://colab.research.google.com/notebooks/data_table.ipynb>data table notebook</a>'\n",
       "            + ' to learn more about interactive tables.';\n",
       "          element.innerHTML = '';\n",
       "          dataTable['output_type'] = 'display_data';\n",
       "          await google.colab.output.renderOutput(dataTable, element);\n",
       "          const docLink = document.createElement('div');\n",
       "          docLink.innerHTML = docLinkHtml;\n",
       "          element.appendChild(docLink);\n",
       "        }\n",
       "      </script>\n",
       "    </div>\n",
       "  </div>\n",
       "  "
      ],
      "text/plain": [
       "      message                                                               \n",
       "        count unique                                                top freq\n",
       "label                                                                       \n",
       "ham      4825   4516                             Sorry, I'll call later   30\n",
       "spam      747    653  Please call our customer service representativ...    4"
      ]
     },
     "execution_count": 14,
     "metadata": {},
     "output_type": "execute_result"
    }
   ],
   "source": [
    "dataset.groupby('label').describe()"
   ]
  },
  {
   "cell_type": "code",
   "execution_count": null,
   "metadata": {
    "colab": {
     "base_uri": "https://localhost:8080/",
     "height": 175
    },
    "executionInfo": {
     "elapsed": 374,
     "status": "ok",
     "timestamp": 1652367511288,
     "user": {
      "displayName": "Lucky dubey",
      "userId": "03545018147732918490"
     },
     "user_tz": -330
    },
    "id": "U3BeG4XhrBvN",
    "outputId": "dc4f70d9-2cbd-4254-bfd4-3526cdcd10be"
   },
   "outputs": [
    {
     "data": {
      "text/html": [
       "\n",
       "  <div id=\"df-4e1fb9e9-9cda-470b-8786-c5c4d6ce0902\">\n",
       "    <div class=\"colab-df-container\">\n",
       "      <div>\n",
       "<style scoped>\n",
       "    .dataframe tbody tr th:only-of-type {\n",
       "        vertical-align: middle;\n",
       "    }\n",
       "\n",
       "    .dataframe tbody tr th {\n",
       "        vertical-align: top;\n",
       "    }\n",
       "\n",
       "    .dataframe thead th {\n",
       "        text-align: right;\n",
       "    }\n",
       "</style>\n",
       "<table border=\"1\" class=\"dataframe\">\n",
       "  <thead>\n",
       "    <tr style=\"text-align: right;\">\n",
       "      <th></th>\n",
       "      <th>label</th>\n",
       "      <th>message</th>\n",
       "    </tr>\n",
       "  </thead>\n",
       "  <tbody>\n",
       "    <tr>\n",
       "      <th>0</th>\n",
       "      <td>ham</td>\n",
       "      <td>Go until jurong point, crazy.. Available only ...</td>\n",
       "    </tr>\n",
       "    <tr>\n",
       "      <th>1</th>\n",
       "      <td>ham</td>\n",
       "      <td>Ok lar... Joking wif u oni...</td>\n",
       "    </tr>\n",
       "    <tr>\n",
       "      <th>2</th>\n",
       "      <td>spam</td>\n",
       "      <td>Free entry in 2 a wkly comp to win FA Cup fina...</td>\n",
       "    </tr>\n",
       "    <tr>\n",
       "      <th>3</th>\n",
       "      <td>ham</td>\n",
       "      <td>U dun say so early hor... U c already then say...</td>\n",
       "    </tr>\n",
       "  </tbody>\n",
       "</table>\n",
       "</div>\n",
       "      <button class=\"colab-df-convert\" onclick=\"convertToInteractive('df-4e1fb9e9-9cda-470b-8786-c5c4d6ce0902')\"\n",
       "              title=\"Convert this dataframe to an interactive table.\"\n",
       "              style=\"display:none;\">\n",
       "        \n",
       "  <svg xmlns=\"http://www.w3.org/2000/svg\" height=\"24px\"viewBox=\"0 0 24 24\"\n",
       "       width=\"24px\">\n",
       "    <path d=\"M0 0h24v24H0V0z\" fill=\"none\"/>\n",
       "    <path d=\"M18.56 5.44l.94 2.06.94-2.06 2.06-.94-2.06-.94-.94-2.06-.94 2.06-2.06.94zm-11 1L8.5 8.5l.94-2.06 2.06-.94-2.06-.94L8.5 2.5l-.94 2.06-2.06.94zm10 10l.94 2.06.94-2.06 2.06-.94-2.06-.94-.94-2.06-.94 2.06-2.06.94z\"/><path d=\"M17.41 7.96l-1.37-1.37c-.4-.4-.92-.59-1.43-.59-.52 0-1.04.2-1.43.59L10.3 9.45l-7.72 7.72c-.78.78-.78 2.05 0 2.83L4 21.41c.39.39.9.59 1.41.59.51 0 1.02-.2 1.41-.59l7.78-7.78 2.81-2.81c.8-.78.8-2.07 0-2.86zM5.41 20L4 18.59l7.72-7.72 1.47 1.35L5.41 20z\"/>\n",
       "  </svg>\n",
       "      </button>\n",
       "      \n",
       "  <style>\n",
       "    .colab-df-container {\n",
       "      display:flex;\n",
       "      flex-wrap:wrap;\n",
       "      gap: 12px;\n",
       "    }\n",
       "\n",
       "    .colab-df-convert {\n",
       "      background-color: #E8F0FE;\n",
       "      border: none;\n",
       "      border-radius: 50%;\n",
       "      cursor: pointer;\n",
       "      display: none;\n",
       "      fill: #1967D2;\n",
       "      height: 32px;\n",
       "      padding: 0 0 0 0;\n",
       "      width: 32px;\n",
       "    }\n",
       "\n",
       "    .colab-df-convert:hover {\n",
       "      background-color: #E2EBFA;\n",
       "      box-shadow: 0px 1px 2px rgba(60, 64, 67, 0.3), 0px 1px 3px 1px rgba(60, 64, 67, 0.15);\n",
       "      fill: #174EA6;\n",
       "    }\n",
       "\n",
       "    [theme=dark] .colab-df-convert {\n",
       "      background-color: #3B4455;\n",
       "      fill: #D2E3FC;\n",
       "    }\n",
       "\n",
       "    [theme=dark] .colab-df-convert:hover {\n",
       "      background-color: #434B5C;\n",
       "      box-shadow: 0px 1px 3px 1px rgba(0, 0, 0, 0.15);\n",
       "      filter: drop-shadow(0px 1px 2px rgba(0, 0, 0, 0.3));\n",
       "      fill: #FFFFFF;\n",
       "    }\n",
       "  </style>\n",
       "\n",
       "      <script>\n",
       "        const buttonEl =\n",
       "          document.querySelector('#df-4e1fb9e9-9cda-470b-8786-c5c4d6ce0902 button.colab-df-convert');\n",
       "        buttonEl.style.display =\n",
       "          google.colab.kernel.accessAllowed ? 'block' : 'none';\n",
       "\n",
       "        async function convertToInteractive(key) {\n",
       "          const element = document.querySelector('#df-4e1fb9e9-9cda-470b-8786-c5c4d6ce0902');\n",
       "          const dataTable =\n",
       "            await google.colab.kernel.invokeFunction('convertToInteractive',\n",
       "                                                     [key], {});\n",
       "          if (!dataTable) return;\n",
       "\n",
       "          const docLinkHtml = 'Like what you see? Visit the ' +\n",
       "            '<a target=\"_blank\" href=https://colab.research.google.com/notebooks/data_table.ipynb>data table notebook</a>'\n",
       "            + ' to learn more about interactive tables.';\n",
       "          element.innerHTML = '';\n",
       "          dataTable['output_type'] = 'display_data';\n",
       "          await google.colab.output.renderOutput(dataTable, element);\n",
       "          const docLink = document.createElement('div');\n",
       "          docLink.innerHTML = docLinkHtml;\n",
       "          element.appendChild(docLink);\n",
       "        }\n",
       "      </script>\n",
       "    </div>\n",
       "  </div>\n",
       "  "
      ],
      "text/plain": [
       "  label                                            message\n",
       "0   ham  Go until jurong point, crazy.. Available only ...\n",
       "1   ham                      Ok lar... Joking wif u oni...\n",
       "2  spam  Free entry in 2 a wkly comp to win FA Cup fina...\n",
       "3   ham  U dun say so early hor... U c already then say..."
      ]
     },
     "execution_count": 15,
     "metadata": {},
     "output_type": "execute_result"
    }
   ],
   "source": [
    "dataset.head(4)"
   ]
  },
  {
   "cell_type": "code",
   "execution_count": null,
   "metadata": {
    "colab": {
     "base_uri": "https://localhost:8080/",
     "height": 299
    },
    "executionInfo": {
     "elapsed": 414,
     "status": "ok",
     "timestamp": 1652367684659,
     "user": {
      "displayName": "Lucky dubey",
      "userId": "03545018147732918490"
     },
     "user_tz": -330
    },
    "id": "3WbwXlEKrFsd",
    "outputId": "1c809135-193f-4101-bdfa-25d20dd5de6a"
   },
   "outputs": [
    {
     "data": {
      "image/png": "[encoded data removed]",
      "text/plain": [
       "<Figure size 432x288 with 1 Axes>"
      ]
     },
     "metadata": {
      "needs_background": "light"
     },
     "output_type": "display_data"
    }
   ],
   "source": [
    "count_Class=pd.value_counts(dataset[\"label\"], sort= True)\n",
    "count_Class.plot(kind = 'bar',color = [\"green\",\"red\"])\n",
    "plt.title('Bar Plot')\n",
    "plt.show();"
   ]
  },
  {
   "cell_type": "code",
   "execution_count": null,
   "metadata": {
    "colab": {
     "base_uri": "https://localhost:8080/"
    },
    "executionInfo": {
     "elapsed": 367,
     "status": "ok",
     "timestamp": 1652367797884,
     "user": {
      "displayName": "Lucky dubey",
      "userId": "03545018147732918490"
     },
     "user_tz": -330
    },
    "id": "fglV1UesrMIt",
    "outputId": "de2eb6e6-e039-43f4-e196-87b47c646df9"
   },
   "outputs": [
    {
     "data": {
      "text/plain": [
       "(5572, 8404)"
      ]
     },
     "execution_count": 17,
     "metadata": {},
     "output_type": "execute_result"
    }
   ],
   "source": [
    "f = feature_extraction.text.CountVectorizer(stop_words = 'english')\n",
    "X = f.fit_transform(dataset[\"message\"])\n",
    "np.shape(X)"
   ]
  },
  {
   "cell_type": "code",
   "execution_count": null,
   "metadata": {
    "colab": {
     "base_uri": "https://localhost:8080/"
    },
    "executionInfo": {
     "elapsed": 2808,
     "status": "ok",
     "timestamp": 1652367871243,
     "user": {
      "displayName": "Lucky dubey",
      "userId": "03545018147732918490"
     },
     "user_tz": -330
    },
    "id": "e3E13KnjrUNd",
    "outputId": "e5721941-df06-4f28-ee6a-c24dc876370b"
   },
   "outputs": [
    {
     "name": "stdout",
     "output_type": "stream",
     "text": [
      "Precision : 0.987 / Recall : 0.724 / fscore : 0.835 / Accuracy: 0.962\n"
     ]
    }
   ],
   "source": [
    "# Classifying spam and not spam msgs as 1 and 0\n",
    "\n",
    "dataset[\"label\"]=dataset[\"label\"].map({'spam':1,'ham':0})\n",
    "X_train, X_test, y_train, y_test = model_selection.train_test_split(X, dataset['label'], test_size=0.70, random_state=42)\n",
    "\n",
    "list_alpha = np.arange(1/100000, 20, 0.11)\n",
    "score_train = np.zeros(len(list_alpha))\n",
    "score_test = np.zeros(len(list_alpha))\n",
    "recall_test = np.zeros(len(list_alpha))\n",
    "precision_test= np.zeros(len(list_alpha))\n",
    "count = 0\n",
    "for alpha in list_alpha:\n",
    "    bayes = naive_bayes.MultinomialNB(alpha=alpha)\n",
    "    bayes.fit(X_train, y_train)\n",
    "    score_train[count] = bayes.score(X_train, y_train)\n",
    "    score_test[count]= bayes.score(X_test, y_test)\n",
    "    recall_test[count] = metrics.recall_score(y_test, bayes.predict(X_test))\n",
    "    precision_test[count] = metrics.precision_score(y_test, bayes.predict(X_test))\n",
    "    count = count + 1\n",
    "\n",
    "matrix = np.matrix(np.c_[list_alpha, score_train, score_test, recall_test, precision_test])\n",
    "models = pd.DataFrame(data = matrix, columns = \n",
    "             ['alpha', 'Train Accuracy', 'Test Accuracy', 'Test Recall', 'Test Precision'])\n",
    "models.head(n=10)\n",
    "\n",
    "best_index = models['Test Precision'].idxmax()\n",
    "models.iloc[best_index, :]\n",
    "\n",
    "rf = RandomForestClassifier(n_estimators=100,max_depth=None,n_jobs=-1)\n",
    "rf_model = rf.fit(X_train,y_train)\n",
    "\n",
    "y_pred=rf_model.predict(X_test)\n",
    "precision,recall,fscore,support =score(y_test,y_pred,pos_label=1, average ='binary')\n",
    "print('Precision : {} / Recall : {} / fscore : {} / Accuracy: {}'.format(round(precision,3),round(recall,3),round(fscore,3),round((y_pred==y_test).sum()/len(y_test),3)))\n"
   ]
  },
  {
   "cell_type": "code",
   "execution_count": null,
   "metadata": {
    "colab": {
     "base_uri": "https://localhost:8080/"
    },
    "executionInfo": {
     "elapsed": 51762,
     "status": "ok",
     "timestamp": 1652368349781,
     "user": {
      "displayName": "Lucky dubey",
      "userId": "03545018147732918490"
     },
     "user_tz": -330
    },
    "id": "JTvfSkD8rjnS",
    "outputId": "ede77b6a-60fc-4c2e-ab4c-e9f5a5550147"
   },
   "outputs": [
    {
     "name": "stdout",
     "output_type": "stream",
     "text": [
      "Collecting keras.utils\n",
      "  Downloading keras-utils-1.0.13.tar.gz (2.4 kB)\n",
      "Requirement already satisfied: Keras>=2.1.5 in /usr/local/lib/python3.7/dist-packages (from keras.utils) (2.8.0)\n",
      "Building wheels for collected packages: keras.utils\n",
      "  Building wheel for keras.utils (setup.py) ... \u001b[?25l\u001b[?25hdone\n",
      "  Created wheel for keras.utils: filename=keras_utils-1.0.13-py3-none-any.whl size=2656 sha256=078b82d6656ab089f2f8c267716c9e4d2a3fe8e235b72ff99e3b395b8a517fcc\n",
      "  Stored in directory: /root/.cache/pip/wheels/d0/dd/3b/493952a5240d486a83805d65360dedadbadeae71d25e2c877f\n",
      "Successfully built keras.utils\n",
      "Installing collected packages: keras.utils\n",
      "Successfully installed keras.utils-1.0.13\n"
     ]
    },
    {
     "name": "stderr",
     "output_type": "stream",
     "text": [
      "/usr/local/lib/python3.7/dist-packages/ipykernel_launcher.py:27: VisibleDeprecationWarning: Creating an ndarray from ragged nested sequences (which is a list-or-tuple of lists-or-tuples-or ndarrays with different lengths or shapes) is deprecated. If you meant to do this, you must specify 'dtype=object' when creating the ndarray.\n"
     ]
    },
    {
     "name": "stdout",
     "output_type": "stream",
     "text": [
      "Model: \"sequential\"\n",
      "_________________________________________________________________\n",
      " Layer (type)                Output Shape              Param #   \n",
      "=================================================================\n",
      " embedding (Embedding)       (None, 250, 16)           6400      \n",
      "                                                                 \n",
      " global_average_pooling1d (G  (None, 16)               0         \n",
      " lobalAveragePooling1D)                                          \n",
      "                                                                 \n",
      " dense (Dense)               (None, 24)                408       \n",
      "                                                                 \n",
      " dense_1 (Dense)             (None, 1)                 25        \n",
      "                                                                 \n",
      "=================================================================\n",
      "Total params: 6,833\n",
      "Trainable params: 6,833\n",
      "Non-trainable params: 0\n",
      "_________________________________________________________________\n",
      "Epoch 1/50\n",
      "140/140 - 2s - loss: 0.5704 - accuracy: 0.8434 - val_loss: 0.4006 - val_accuracy: 0.8700 - 2s/epoch - 14ms/step\n",
      "Epoch 2/50\n",
      "140/140 - 0s - loss: 0.3862 - accuracy: 0.8649 - val_loss: 0.3696 - val_accuracy: 0.8700 - 492ms/epoch - 4ms/step\n",
      "Epoch 3/50\n",
      "140/140 - 0s - loss: 0.3732 - accuracy: 0.8649 - val_loss: 0.3581 - val_accuracy: 0.8700 - 439ms/epoch - 3ms/step\n",
      "Epoch 4/50\n",
      "140/140 - 0s - loss: 0.3592 - accuracy: 0.8649 - val_loss: 0.3417 - val_accuracy: 0.8700 - 464ms/epoch - 3ms/step\n",
      "Epoch 5/50\n",
      "140/140 - 0s - loss: 0.3367 - accuracy: 0.8649 - val_loss: 0.3125 - val_accuracy: 0.8700 - 429ms/epoch - 3ms/step\n",
      "Epoch 6/50\n",
      "140/140 - 0s - loss: 0.2974 - accuracy: 0.8649 - val_loss: 0.2636 - val_accuracy: 0.8700 - 441ms/epoch - 3ms/step\n",
      "Epoch 7/50\n",
      "140/140 - 0s - loss: 0.2414 - accuracy: 0.8649 - val_loss: 0.2090 - val_accuracy: 0.8700 - 425ms/epoch - 3ms/step\n",
      "Epoch 8/50\n",
      "140/140 - 0s - loss: 0.2023 - accuracy: 0.8649 - val_loss: 0.1816 - val_accuracy: 0.8700 - 452ms/epoch - 3ms/step\n",
      "Epoch 9/50\n",
      "140/140 - 0s - loss: 0.1822 - accuracy: 0.8941 - val_loss: 0.1681 - val_accuracy: 0.9507 - 456ms/epoch - 3ms/step\n",
      "Epoch 10/50\n",
      "140/140 - 0s - loss: 0.1699 - accuracy: 0.9484 - val_loss: 0.1570 - val_accuracy: 0.9444 - 415ms/epoch - 3ms/step\n",
      "Epoch 11/50\n",
      "140/140 - 0s - loss: 0.1608 - accuracy: 0.9522 - val_loss: 0.1474 - val_accuracy: 0.9543 - 437ms/epoch - 3ms/step\n",
      "Epoch 12/50\n",
      "140/140 - 0s - loss: 0.1529 - accuracy: 0.9589 - val_loss: 0.1409 - val_accuracy: 0.9641 - 411ms/epoch - 3ms/step\n",
      "Epoch 13/50\n",
      "140/140 - 0s - loss: 0.1442 - accuracy: 0.9630 - val_loss: 0.1328 - val_accuracy: 0.9650 - 454ms/epoch - 3ms/step\n",
      "Epoch 14/50\n",
      "140/140 - 0s - loss: 0.1370 - accuracy: 0.9663 - val_loss: 0.1261 - val_accuracy: 0.9677 - 423ms/epoch - 3ms/step\n",
      "Epoch 15/50\n",
      "140/140 - 0s - loss: 0.1302 - accuracy: 0.9686 - val_loss: 0.1195 - val_accuracy: 0.9713 - 399ms/epoch - 3ms/step\n",
      "Epoch 16/50\n",
      "140/140 - 0s - loss: 0.1242 - accuracy: 0.9693 - val_loss: 0.1140 - val_accuracy: 0.9695 - 421ms/epoch - 3ms/step\n",
      "Epoch 17/50\n",
      "140/140 - 0s - loss: 0.1180 - accuracy: 0.9720 - val_loss: 0.1088 - val_accuracy: 0.9740 - 396ms/epoch - 3ms/step\n",
      "Epoch 18/50\n",
      "140/140 - 0s - loss: 0.1129 - accuracy: 0.9731 - val_loss: 0.1052 - val_accuracy: 0.9776 - 416ms/epoch - 3ms/step\n",
      "Epoch 19/50\n",
      "140/140 - 0s - loss: 0.1078 - accuracy: 0.9735 - val_loss: 0.0989 - val_accuracy: 0.9776 - 472ms/epoch - 3ms/step\n",
      "Epoch 20/50\n",
      "140/140 - 0s - loss: 0.1030 - accuracy: 0.9755 - val_loss: 0.0937 - val_accuracy: 0.9758 - 432ms/epoch - 3ms/step\n",
      "Epoch 21/50\n",
      "140/140 - 0s - loss: 0.0988 - accuracy: 0.9767 - val_loss: 0.0901 - val_accuracy: 0.9803 - 408ms/epoch - 3ms/step\n",
      "Epoch 22/50\n",
      "140/140 - 0s - loss: 0.0938 - accuracy: 0.9778 - val_loss: 0.0853 - val_accuracy: 0.9803 - 431ms/epoch - 3ms/step\n",
      "Epoch 23/50\n",
      "140/140 - 0s - loss: 0.0895 - accuracy: 0.9787 - val_loss: 0.0818 - val_accuracy: 0.9803 - 440ms/epoch - 3ms/step\n",
      "Epoch 24/50\n",
      "140/140 - 0s - loss: 0.0863 - accuracy: 0.9791 - val_loss: 0.0788 - val_accuracy: 0.9821 - 416ms/epoch - 3ms/step\n",
      "Epoch 25/50\n",
      "140/140 - 0s - loss: 0.0829 - accuracy: 0.9803 - val_loss: 0.0763 - val_accuracy: 0.9821 - 456ms/epoch - 3ms/step\n",
      "Epoch 26/50\n",
      "140/140 - 0s - loss: 0.0792 - accuracy: 0.9816 - val_loss: 0.0732 - val_accuracy: 0.9839 - 420ms/epoch - 3ms/step\n",
      "Epoch 27/50\n",
      "140/140 - 0s - loss: 0.0781 - accuracy: 0.9823 - val_loss: 0.0707 - val_accuracy: 0.9839 - 456ms/epoch - 3ms/step\n",
      "Epoch 28/50\n",
      "140/140 - 0s - loss: 0.0744 - accuracy: 0.9823 - val_loss: 0.0688 - val_accuracy: 0.9857 - 417ms/epoch - 3ms/step\n",
      "Epoch 29/50\n",
      "140/140 - 0s - loss: 0.0714 - accuracy: 0.9832 - val_loss: 0.0705 - val_accuracy: 0.9848 - 389ms/epoch - 3ms/step\n",
      "Epoch 30/50\n",
      "140/140 - 0s - loss: 0.0688 - accuracy: 0.9834 - val_loss: 0.0645 - val_accuracy: 0.9874 - 439ms/epoch - 3ms/step\n",
      "Epoch 31/50\n",
      "140/140 - 0s - loss: 0.0672 - accuracy: 0.9843 - val_loss: 0.0631 - val_accuracy: 0.9874 - 429ms/epoch - 3ms/step\n",
      "Epoch 32/50\n",
      "140/140 - 1s - loss: 0.0648 - accuracy: 0.9845 - val_loss: 0.0612 - val_accuracy: 0.9883 - 544ms/epoch - 4ms/step\n",
      "Epoch 33/50\n",
      "140/140 - 0s - loss: 0.0633 - accuracy: 0.9834 - val_loss: 0.0612 - val_accuracy: 0.9857 - 454ms/epoch - 3ms/step\n",
      "Epoch 34/50\n",
      "140/140 - 1s - loss: 0.0624 - accuracy: 0.9838 - val_loss: 0.0583 - val_accuracy: 0.9892 - 521ms/epoch - 4ms/step\n",
      "Epoch 35/50\n",
      "140/140 - 1s - loss: 0.0600 - accuracy: 0.9847 - val_loss: 0.0589 - val_accuracy: 0.9892 - 543ms/epoch - 4ms/step\n",
      "Epoch 36/50\n",
      "140/140 - 0s - loss: 0.0581 - accuracy: 0.9850 - val_loss: 0.0562 - val_accuracy: 0.9892 - 485ms/epoch - 3ms/step\n",
      "Epoch 37/50\n",
      "140/140 - 0s - loss: 0.0569 - accuracy: 0.9850 - val_loss: 0.0557 - val_accuracy: 0.9892 - 423ms/epoch - 3ms/step\n",
      "Epoch 38/50\n",
      "140/140 - 0s - loss: 0.0559 - accuracy: 0.9859 - val_loss: 0.0541 - val_accuracy: 0.9883 - 440ms/epoch - 3ms/step\n",
      "Epoch 39/50\n",
      "140/140 - 0s - loss: 0.0544 - accuracy: 0.9856 - val_loss: 0.0537 - val_accuracy: 0.9901 - 430ms/epoch - 3ms/step\n",
      "Epoch 40/50\n",
      "140/140 - 0s - loss: 0.0531 - accuracy: 0.9859 - val_loss: 0.0561 - val_accuracy: 0.9892 - 414ms/epoch - 3ms/step\n",
      "Epoch 41/50\n",
      "140/140 - 1s - loss: 0.0523 - accuracy: 0.9856 - val_loss: 0.0557 - val_accuracy: 0.9865 - 544ms/epoch - 4ms/step\n",
      "Epoch 42/50\n",
      "140/140 - 1s - loss: 0.0502 - accuracy: 0.9877 - val_loss: 0.0572 - val_accuracy: 0.9848 - 519ms/epoch - 4ms/step\n",
      "Epoch 43/50\n",
      "140/140 - 1s - loss: 0.0500 - accuracy: 0.9859 - val_loss: 0.0515 - val_accuracy: 0.9874 - 545ms/epoch - 4ms/step\n",
      "Epoch 44/50\n",
      "140/140 - 0s - loss: 0.0497 - accuracy: 0.9868 - val_loss: 0.0529 - val_accuracy: 0.9874 - 484ms/epoch - 3ms/step\n",
      "Epoch 45/50\n",
      "140/140 - 0s - loss: 0.0478 - accuracy: 0.9874 - val_loss: 0.0497 - val_accuracy: 0.9901 - 494ms/epoch - 4ms/step\n",
      "Epoch 46/50\n",
      "140/140 - 0s - loss: 0.0484 - accuracy: 0.9874 - val_loss: 0.0529 - val_accuracy: 0.9865 - 479ms/epoch - 3ms/step\n",
      "Epoch 47/50\n",
      "140/140 - 0s - loss: 0.0464 - accuracy: 0.9874 - val_loss: 0.0499 - val_accuracy: 0.9901 - 420ms/epoch - 3ms/step\n",
      "Epoch 48/50\n",
      "140/140 - 0s - loss: 0.0455 - accuracy: 0.9877 - val_loss: 0.0500 - val_accuracy: 0.9901 - 408ms/epoch - 3ms/step\n",
      "Epoch 49/50\n",
      "140/140 - 1s - loss: 0.0442 - accuracy: 0.9879 - val_loss: 0.0523 - val_accuracy: 0.9892 - 517ms/epoch - 4ms/step\n",
      "Epoch 50/50\n",
      "140/140 - 0s - loss: 0.0438 - accuracy: 0.9883 - val_loss: 0.0507 - val_accuracy: 0.9874 - 432ms/epoch - 3ms/step\n",
      "35/35 [==============================] - 0s 2ms/step - loss: 0.0507 - accuracy: 0.9874\n",
      "[+] Accuracy: 98.74%\n",
      "SPAM MESSAGE\n",
      "NOT SPAM\n"
     ]
    }
   ],
   "source": [
    "!pip install keras.utils\n",
    "\n",
    "import tensorflow as tf\n",
    "from keras.preprocessing.text import Tokenizer\n",
    "from keras.layers import Embedding, LSTM, Dropout, Dense\n",
    "from keras.models import Sequential\n",
    "from tensorflow.keras.utils import to_categorical\n",
    "#from keras.utils import to_categorical\n",
    "from keras.preprocessing.sequence import pad_sequences\n",
    "import tensorflow as tf\n",
    "\n",
    "vocab_size = 400\n",
    "oov_tok = \"<OOV>\"\n",
    "max_length = 250\n",
    "embedding_dim = 16\n",
    "encode = ({'ham': 0, 'spam': 1} )\n",
    "#new dataset with replaced values\n",
    "dataset = dataset.replace(encode)\n",
    "\n",
    "X = dataset['message']\n",
    "Y = dataset['label']\n",
    "tokenizer = Tokenizer(num_words=vocab_size, oov_token=oov_tok)\n",
    "tokenizer.fit_on_texts(X)\n",
    "# convert to sequence of integers\n",
    "X = tokenizer.texts_to_sequences(X)\n",
    "\n",
    "X = np.array(X)\n",
    "y = np.array(Y)\n",
    "\n",
    "X = pad_sequences(X, maxlen=max_length)\n",
    "\n",
    "model = tf.keras.Sequential([\n",
    "    tf.keras.layers.Embedding(vocab_size, embedding_dim, input_length=max_length),\n",
    "    tf.keras.layers.GlobalAveragePooling1D(),\n",
    "    tf.keras.layers.Dense(24, activation='relu'),\n",
    "    tf.keras.layers.Dense(1, activation='sigmoid')\n",
    "])\n",
    "model.compile(loss='binary_crossentropy',optimizer='adam',metrics=['accuracy'])\n",
    "model.summary()\n",
    "\n",
    "num_epochs = 50\n",
    "X_train, X_test, y_train, y_test = train_test_split(X, Y, test_size=.20, random_state=7)\n",
    "history = model.fit(X_train, y_train, epochs=num_epochs, validation_data=(X_test,y_test), verbose=2)\n",
    "\n",
    "results = model.evaluate(X_test, y_test)\n",
    "loss = results[0]\n",
    "accuracy = results[1]\n",
    "\n",
    "\n",
    "print(f\"[+] Accuracy: {accuracy*100:.2f}%\")\n",
    "\n",
    "from keras.preprocessing import sequence\n",
    "\n",
    "#Defining the function\n",
    "def get_predictions(txts):\n",
    "    txts = tokenizer.texts_to_sequences(txts)\n",
    "    txts = sequence.pad_sequences(txts, maxlen=max_length)\n",
    "    preds = model.predict(txts)\n",
    "    if(preds[0] > 0.5):\n",
    "        print(\"SPAM MESSAGE\")\n",
    "        \n",
    "    else:\n",
    "        print('NOT SPAM')\n",
    "\n",
    "txts=[\"You have won a free ticket to las vegas. Contact now\"]\n",
    "\n",
    "get_predictions(txts)\n",
    "\n",
    "txts=[\"Hey there call me asap!!\"]\n",
    "\n",
    "get_predictions(txts)"
   ]
  }
 ],
 "metadata": {
  "colab": {
   "authorship_tag": "ABX9TyMCBHC2e4d+Gy+NyAR2m9ee",
   "name": "Copy of prac 4.ipynb",
   "provenance": [
    {
     "file_id": "1aidNHEVUODUtDAU36s_alnPkFURA9n1c",
     "timestamp": 1652282513076
    }
   ]
  },
  "kernelspec": {
   "display_name": "Python 3 (ipykernel)",
   "language": "python",
   "name": "python3"
  },
  "language_info": {
   "codemirror_mode": {
    "name": "ipython",
    "version": 3
   },
   "file_extension": ".py",
   "mimetype": "text/x-python",
   "name": "python",
   "nbconvert_exporter": "python",
   "pygments_lexer": "ipython3",
   "version": "3.8.0"
  }
 },
 "nbformat": 4,
 "nbformat_minor": 1
}
